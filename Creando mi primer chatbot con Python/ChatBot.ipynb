{
  "cells": [
    {
      "cell_type": "markdown",
      "metadata": {
        "id": "6xvpLYkf8LUa"
      },
      "source": [
        "#Taller: Creando mi primer Chatbot con Python\n",
        "\n",
        "Objetivo: Conocer los principios básicos para generar un chatbot.\n",
        "\n",
        "Temas:\n",
        "\n",
        "\n",
        "1.   Programación en Python\n",
        "\n",
        "    *   Conociendo el lenguaje\n",
        "    *   Estructuras básicas\n",
        "\n",
        "\n",
        "2.   Añadir librerias en Python\n",
        "\n",
        "    *   Módulos y funciones\n",
        "    *   Librerias más utilizadas\n",
        "\n",
        "\n",
        "3.   Generar mi Chatbot\n",
        "    \n",
        "    *   NLTK\n",
        "    *   Diccionario de datos\n",
        "    *   Generar el chat\n",
        "\n",
        "4.   Referencias\n",
        "\n"
      ]
    },
    {
      "cell_type": "markdown",
      "metadata": {
        "id": "wJOwNfqf8Op9"
      },
      "source": [
        "# Ejecutar la instalación de una librería"
      ]
    },
    {
      "cell_type": "code",
      "execution_count": 1,
      "metadata": {
        "colab": {
          "base_uri": "https://localhost:8080/"
        },
        "id": "oUe36jG68YgC",
        "outputId": "1d612025-e98a-43ca-b6ad-8d92ce04d7b3"
      },
      "outputs": [
        {
          "name": "stdout",
          "output_type": "stream",
          "text": [
            "Looking in indexes: https://pypi.org/simple, https://us-python.pkg.dev/colab-wheels/public/simple/\n",
            "Requirement already satisfied: nltk in /usr/local/lib/python3.7/dist-packages (3.7)\n",
            "Requirement already satisfied: regex>=2021.8.3 in /usr/local/lib/python3.7/dist-packages (from nltk) (2022.6.2)\n",
            "Requirement already satisfied: joblib in /usr/local/lib/python3.7/dist-packages (from nltk) (1.2.0)\n",
            "Requirement already satisfied: tqdm in /usr/local/lib/python3.7/dist-packages (from nltk) (4.64.1)\n",
            "Requirement already satisfied: click in /usr/local/lib/python3.7/dist-packages (from nltk) (7.1.2)\n"
          ]
        }
      ],
      "source": [
        "!pip3 install nltk"
      ]
    },
    {
      "cell_type": "code",
      "execution_count": 1,
      "metadata": {
        "colab": {
          "base_uri": "https://localhost:8080/",
          "height": 363
        },
        "id": "DUHqAwbr8hd_",
        "outputId": "2ad4e616-a04b-449a-b317-c9191db5d7a9"
      },
      "outputs": [
        {
          "name": "stdout",
          "output_type": "stream",
          "text": [
            "Hola soy un Bot, escribe algo para comenzar\n",
            "Que tal\n",
            "Fue bueno hablar contigo\n"
          ]
        }
      ],
      "source": [
        "import nltk\n",
        "from nltk.chat.util import Chat, reflections\n",
        "\n",
        "mis_reflexions = {\n",
        "    \"ir\": \"fui\",\n",
        "    \"hola\":\"hey\"\n",
        "}\n",
        "\n",
        "pares = [\n",
        "    [\n",
        "        r\"mi nombre es (.*)\",\n",
        "        [\"Hola %1, como estas ?\",]\n",
        "    ],\n",
        "    [\n",
        "        r\"cual es tu nombre ?\",\n",
        "        [\"Mi nombre es Chatbot ?\",]\n",
        "    ],\n",
        "    [\n",
        "        r\"como estas ?\",\n",
        "        [\"Bien, y tu?\",]\n",
        "    ],\n",
        "    [\n",
        "        r\"disculpa (.*)\",\n",
        "        [\"No pasa nada\",]\n",
        "    ],\n",
        "    [\n",
        "        r\"hola|hey|buenas\",\n",
        "        [\"Hola\",\"Que tal\",]\n",
        "    ],\n",
        "    [\n",
        "        r\"que (.*) quieres ?\",\n",
        "        [\"nada gracias\",]\n",
        "    ],\n",
        "    [\n",
        "        r\"(.*) creado?\",\n",
        "        [\"Fui creado hoy\",]\n",
        "    ],\n",
        "    [\n",
        "        r\"finalizar\",\n",
        "        [\"Chao\",\"Fue bueno hablar contigo\"]\n",
        "    ],\n",
        "]\n",
        "\n",
        "def chatear():\n",
        "  print(\"Hola soy un Bot, escribe algo para comenzar\") #mensaje por defecto\n",
        "  chat = Chat(pares, mis_reflexions)\n",
        "  chat.converse()\n",
        "\n",
        "if __name__ == \"__main__\":\n",
        "  chatear()"
      ]
    },
    {
      "cell_type": "markdown",
      "metadata": {
        "id": "nBe2Nc9H8kyd"
      },
      "source": [
        "## Referencias\n",
        "[Documentation NLTK](https://www.nltk.org/api/nltk.chat.html)\n",
        "\n",
        "[Documentation ChatterBot](https://chatterbot.readthedocs.io/en/stable/index.html)"
      ]
    }
  ],
  "metadata": {
    "colab": {
      "provenance": []
    },
    "kernelspec": {
      "display_name": "Python 3.11.0 64-bit",
      "language": "python",
      "name": "python3"
    },
    "language_info": {
      "codemirror_mode": {
        "name": "ipython",
        "version": 3
      },
      "file_extension": ".py",
      "mimetype": "text/x-python",
      "name": "python",
      "nbconvert_exporter": "python",
      "pygments_lexer": "ipython3",
      "version": "3.11.0"
    },
    "vscode": {
      "interpreter": {
        "hash": "71b3441a6a9b8dcc79d29b7e91f0f2475bf0b2f9ee71feb49b72b3f8cefe0cf1"
      }
    }
  },
  "nbformat": 4,
  "nbformat_minor": 0
}
