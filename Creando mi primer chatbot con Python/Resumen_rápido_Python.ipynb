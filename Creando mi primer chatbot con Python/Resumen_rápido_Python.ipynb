{
  "cells": [
    {
      "cell_type": "markdown",
      "metadata": {
        "id": "dstKS4la6jNz"
      },
      "source": [
        "# **Programación en Python**\n",
        "\n",
        "## Conociendo el lenguaje: Es un lenguaje interpretado y multiplataforma, también es multiparadigma, cuenta con tipado dinámico. Es un lenguaje de alto nivel, lo qie permite que sea de código legible y fácil de implementar.\n",
        "### Variables: Será el nombre con el cual se va a reconocer algún objeto que requerirá constante combio dentro del código. Este puede ser para una entrada númerica, para guardar datos de resultado, etc.\n",
        "### Tipos de datos simples: Son todos los datos que pueden ser guardados en memoria sin ningún trato especial.\n",
        "### * Enteros, flotantes, booleanos (True, False)\n",
        "### Datos estructurados: por lo general es un conjunto de datos simples, ordenados y organizados de cierta forma para un objetivo específico.\n",
        "### * Listas, Tuplas. Las listas son datos indexados que pueden ser de tipo simple o estucturado, en el lenguaje son identificados por medio de []. Si lo vemos de forma matemática se asemeja a los datos vectoriales o matriciales. Cada elemento de este tipo de dato puede ser variable en ejecución. Las tuplas son muy similares a las Listas, sin embargo estas no pueden ser modificadas en tiempo de ejecución, a esta característica se le conoce como dato inmutable, por lo tanto, las listas con mutables. Las tuplas se identifican por ()\n",
        "### * Diccionarios, Conjuntos. Los diccionarios son almacenados como pares de claves, representada siempre como un conjunto de Clave-Valor, se identifican por medio de {}. Los conjuntos (set) también son identificados por {}, sin embargo este es un conjunto de elementos únicos, además de ser un tipo de dato inmutable.\n",
        "### Estructuras de control:\n",
        "### * Condicionales. Son estructuras que permiten darle un flujo al código, estas son requeridas cuando es necesaria la toma de decisiones. La palabra reservada para esta estructura es if, if-else, elif.\n",
        "### * Ciclos repetitivos: Cuando se requiere realizar alguna ejecución repetitiva, se hace uso de esta estructura, sin embargo es importante mencionar que siempre se debe considerar una condición de paro. La palabra reservada para esta estuctura es while. Existe otra estructura que se utiliza siempre y cuando se conoce el número de repeticiones, a esta estuctura se le conoce como indexada, python la identifica como for.\n",
        "### * Funciones o módulos: El uso de módulos o funciones es importante porque se le dá mejor estuctura a una solución, recurrir a este tipo de desarrollos tiene como objetivo simplificar la solución. Una función debrerá realizar la solución de una tarea simple y única.\n",
        "### Manejo de librerías: La accesibilidad de python permite hacer uso de otros desarrollos para facilitar las soluciones. Por lo tanto las librerias son desarrollo a soluciones de problemas frecuentes. Por ejemplo, para poder mostrar gráficos en pantalla a partir de datos, tenemos la librería matplotlib, para el procesamiento de arreglos matemáticos como matrices, existe numpy, etc. Cada librería está dotada de métodos que pueden ser utilizados en los desarrollos."
      ]
    },
    {
      "cell_type": "code",
      "execution_count": 1,
      "metadata": {
        "colab": {
          "base_uri": "https://localhost:8080/"
        },
        "id": "AA_uNsr76n3O",
        "outputId": "3fd65955-c281-46a6-ecda-0be762acfe81"
      },
      "outputs": [
        {
          "name": "stdout",
          "output_type": "stream",
          "text": [
            "Tipo de dato de la variable a:  <class 'int'>\n",
            "<class 'float'>\n",
            "<class 'bool'>\n"
          ]
        }
      ],
      "source": [
        "# Variables y tipos de datos simples\n",
        "a = 5\n",
        "b = 6.3\n",
        "c = True\n",
        "\n",
        "print(\"Tipo de dato de la variable a: \",type(a))\n",
        "print(type(b))\n",
        "print(type(c))"
      ]
    },
    {
      "cell_type": "code",
      "execution_count": 2,
      "metadata": {
        "colab": {
          "base_uri": "https://localhost:8080/"
        },
        "id": "Xe6ye6pT6txc",
        "outputId": "11cad6cc-95e8-456f-d2d5-5b6d14da2a87"
      },
      "outputs": [
        {
          "name": "stdout",
          "output_type": "stream",
          "text": [
            "<class 'list'>\n",
            "<class 'tuple'>\n",
            "<class 'dict'>\n",
            "<class 'set'>\n",
            "<class 'complex'>\n"
          ]
        }
      ],
      "source": [
        "# Datos estructurados\n",
        "d = [1,2,3,6,[a,b,c]]\n",
        "e = (1,2,3,5)\n",
        "f = {\"clave1\":55,\"clave2\":60}\n",
        "g = {1,2,3,4}\n",
        "h = 5 + 3j\n",
        "print(type(d))\n",
        "print(type(e))\n",
        "print(type(f))\n",
        "print(type(g))\n",
        "print(type(h))"
      ]
    },
    {
      "cell_type": "code",
      "execution_count": 3,
      "metadata": {
        "colab": {
          "base_uri": "https://localhost:8080/"
        },
        "id": "pygEyNQc6waN",
        "outputId": "9bcb9715-8a49-4e5a-c527-2cd9f2b6bb75"
      },
      "outputs": [
        {
          "name": "stdout",
          "output_type": "stream",
          "text": [
            "Fuera de la condicion\n"
          ]
        }
      ],
      "source": [
        "# Condicionales if\n",
        "if a>b :\n",
        "    print(\"a es menor a b\")\n",
        "    print(\"otra instruccion\")\n",
        "print(\"Fuera de la condicion\")"
      ]
    },
    {
      "cell_type": "code",
      "execution_count": 4,
      "metadata": {
        "colab": {
          "base_uri": "https://localhost:8080/"
        },
        "id": "wMZjZxJm6yLZ",
        "outputId": "cbf198ab-01c2-4e48-ef74-0f3b1011d681"
      },
      "outputs": [
        {
          "name": "stdout",
          "output_type": "stream",
          "text": [
            "a menor que b\n"
          ]
        }
      ],
      "source": [
        "# Condicional if-else\n",
        "if a>b:\n",
        "    print(\"a mayor que b\")\n",
        "else:\n",
        "    print(\"a menor que b\")"
      ]
    },
    {
      "cell_type": "code",
      "execution_count": 5,
      "metadata": {
        "colab": {
          "base_uri": "https://localhost:8080/"
        },
        "id": "h7C--8_-6zr4",
        "outputId": "389a02df-1b17-4448-da60-2b310a32be0c"
      },
      "outputs": [
        {
          "name": "stdout",
          "output_type": "stream",
          "text": [
            "a menor que b\n"
          ]
        }
      ],
      "source": [
        "if a>b:\n",
        "    print(\"a mayor que b\")\n",
        "else:\n",
        "    if a<b:\n",
        "        print(\"a menor que b\")\n",
        "    else:\n",
        "        print(\"a es igual a b\")"
      ]
    },
    {
      "cell_type": "code",
      "execution_count": 6,
      "metadata": {
        "colab": {
          "base_uri": "https://localhost:8080/"
        },
        "id": "C-tAfgjV61ji",
        "outputId": "2a2b13f3-0292-4667-b66d-07561c0003e7"
      },
      "outputs": [
        {
          "name": "stdout",
          "output_type": "stream",
          "text": [
            "a menor que b\n"
          ]
        }
      ],
      "source": [
        "# Condicional elif\n",
        "if a>b:\n",
        "    print(\"a mayor que b\")\n",
        "elif a<b:\n",
        "    print(\"a menor que b\")\n",
        "else:\n",
        "    print(\"a es igual que b\")"
      ]
    },
    {
      "cell_type": "code",
      "execution_count": 7,
      "metadata": {
        "colab": {
          "base_uri": "https://localhost:8080/"
        },
        "id": "uvdAvoe963nD",
        "outputId": "d6309694-0748-4d80-afc5-f340c72a26e2"
      },
      "outputs": [
        {
          "name": "stdout",
          "output_type": "stream",
          "text": [
            "1  Hola amigos ...\n",
            "2  Hola amigos ...\n",
            "3  Hola amigos ...\n",
            "4  Hola amigos ...\n",
            "5  Hola amigos ...\n"
          ]
        }
      ],
      "source": [
        "# Ciclos repetitivos\n",
        "#Repite una frase 5 veces\n",
        "contador = 0\n",
        "while contador<5:\n",
        "    contador += 1 # contador = contador + 1\n",
        "    print(contador,\" Hola amigos ...\")"
      ]
    },
    {
      "cell_type": "code",
      "execution_count": 8,
      "metadata": {
        "colab": {
          "base_uri": "https://localhost:8080/"
        },
        "id": "YnWCgmZs7PZb",
        "outputId": "24df961c-7109-4f7f-8606-7037a504e5c6"
      },
      "outputs": [
        {
          "name": "stdout",
          "output_type": "stream",
          "text": [
            "1  Hola amigos ...\n",
            "2  Hola amigos ...\n",
            "3  Hola amigos ...\n",
            "4  Hola amigos ...\n",
            "5  Hola amigos ...\n",
            "6  Hola amigos ...\n",
            "7  Hola amigos ...\n",
            "8  Hola amigos ...\n",
            "9  Hola amigos ...\n",
            "10  Hola amigos ...\n",
            "11  Hola amigos ...\n",
            "12  Hola amigos ...\n",
            "13  Hola amigos ...\n",
            "14  Hola amigos ...\n",
            "15  Hola amigos ...\n",
            "16  Hola amigos ...\n",
            "17  Hola amigos ...\n",
            "18  Hola amigos ...\n",
            "19  Hola amigos ...\n",
            "20  Hola amigos ...\n",
            "21  Hola amigos ...\n",
            "22  Hola amigos ...\n",
            "23  Hola amigos ...\n",
            "24  Hola amigos ...\n",
            "25  Hola amigos ...\n",
            "26  Hola amigos ...\n",
            "27  Hola amigos ...\n",
            "28  Hola amigos ...\n",
            "29  Hola amigos ...\n",
            "30  Hola amigos ...\n",
            "31  Hola amigos ...\n",
            "32  Hola amigos ...\n",
            "33  Hola amigos ...\n",
            "34  Hola amigos ...\n",
            "35  Hola amigos ...\n"
          ]
        }
      ],
      "source": [
        "# Uso del for con el mismo problema\n",
        "for i in range(35):\n",
        "    print(i+1, \" Hola amigos ...\")"
      ]
    },
    {
      "cell_type": "code",
      "execution_count": 9,
      "metadata": {
        "colab": {
          "base_uri": "https://localhost:8080/"
        },
        "id": "n3Qo_rH-7S-O",
        "outputId": "4df217e2-68b4-4b10-cbca-dc6b5bf69112"
      },
      "outputs": [
        {
          "name": "stdout",
          "output_type": "stream",
          "text": [
            "Dentro de una funcion...\n"
          ]
        }
      ],
      "source": [
        "#Funciones\n",
        "def mi_funcion():\n",
        "    print(\"Dentro de una funcion...\")\n",
        "    # Aqui pueden incluir operaciones\n",
        "\n",
        "#Ejecutando funcion\n",
        "mi_funcion()"
      ]
    },
    {
      "cell_type": "code",
      "execution_count": 10,
      "metadata": {
        "colab": {
          "base_uri": "https://localhost:8080/"
        },
        "id": "8IT4ehju7U7J",
        "outputId": "83afbc94-ad99-4b4c-dd22-5e940ca5630d"
      },
      "outputs": [
        {
          "name": "stdout",
          "output_type": "stream",
          "text": [
            "3.141592653589793\n"
          ]
        }
      ],
      "source": [
        "#Incluyendo librerias\n",
        "import numpy as np\n",
        "\n",
        "#Obteniendo constante pi\n",
        "print(np.pi)"
      ]
    },
    {
      "cell_type": "markdown",
      "metadata": {
        "id": "0AIr2KNR7aAA"
      },
      "source": [
        "# Referencias\n",
        "\n",
        "https://wiki.python.org/moin/BeginnersGuide\n",
        "\n",
        "Libro: Delgado Quintero, Sergio. Aprende Python. Octubre 2022."
      ]
    }
  ],
  "metadata": {
    "colab": {
      "provenance": []
    },
    "kernelspec": {
      "display_name": "Python 3.10.6 64-bit",
      "language": "python",
      "name": "python3"
    },
    "language_info": {
      "codemirror_mode": {
        "name": "ipython",
        "version": 3
      },
      "file_extension": ".py",
      "mimetype": "text/x-python",
      "name": "python",
      "nbconvert_exporter": "python",
      "pygments_lexer": "ipython3",
      "version": "3.10.6"
    },
    "vscode": {
      "interpreter": {
        "hash": "1877db499a7b4ab35f7833c424fb50f3ec775240da6b00a811e00449570fd16f"
      }
    }
  },
  "nbformat": 4,
  "nbformat_minor": 0
}
