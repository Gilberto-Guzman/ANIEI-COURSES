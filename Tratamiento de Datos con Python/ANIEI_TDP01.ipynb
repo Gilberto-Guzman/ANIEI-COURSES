{
  "cells": [
    {
      "cell_type": "markdown",
      "metadata": {
        "id": "6gGxzV31Mah9"
      },
      "source": [
        "## Codigos de Prueba"
      ]
    },
    {
      "cell_type": "code",
      "execution_count": 10,
      "metadata": {
        "colab": {
          "base_uri": "https://localhost:8080/"
        },
        "id": "yDUDVahpMDAp",
        "outputId": "f53ef078-187e-488b-b195-51fa674ea151"
      },
      "outputs": [
        {
          "data": {
            "text/plain": [
              "80"
            ]
          },
          "execution_count": 10,
          "metadata": {},
          "output_type": "execute_result"
        }
      ],
      "source": [
        "a = 16\n",
        "b = 5\n",
        "a * b"
      ]
    },
    {
      "cell_type": "code",
      "execution_count": 11,
      "metadata": {
        "colab": {
          "base_uri": "https://localhost:8080/"
        },
        "id": "uc-DWUGAMRNT",
        "outputId": "626645dc-5f4e-486f-b2b3-6ee44d1bd773"
      },
      "outputs": [
        {
          "name": "stdout",
          "output_type": "stream",
          "text": [
            "16\n",
            "5\n"
          ]
        }
      ],
      "source": [
        "print(a)\n",
        "print(b)"
      ]
    },
    {
      "cell_type": "code",
      "execution_count": 12,
      "metadata": {
        "colab": {
          "base_uri": "https://localhost:8080/"
        },
        "id": "a11dnRa1NLCc",
        "outputId": "d488a7b4-d1c2-46d8-b76e-8f81eef2d2a6"
      },
      "outputs": [
        {
          "name": "stdout",
          "output_type": "stream",
          "text": [
            "<class 'int'>\n",
            "<class 'float'>\n",
            "<class 'str'>\n",
            "<class 'bool'>\n"
          ]
        }
      ],
      "source": [
        "c = 3.1415\n",
        "s = 'hola mundo'\n",
        "d = True\n",
        "\n",
        "print(type(a))\n",
        "print(type(c))\n",
        "print(type(s))\n",
        "print(type(d))"
      ]
    },
    {
      "cell_type": "code",
      "execution_count": 14,
      "metadata": {
        "colab": {
          "base_uri": "https://localhost:8080/"
        },
        "id": "sEltj87wNwCS",
        "outputId": "0f9576df-a930-4df3-c2a7-531a58520947"
      },
      "outputs": [
        {
          "name": "stdout",
          "output_type": "stream",
          "text": [
            "Valor de PI 3.141592653589793\n",
            "Area:  59.99319265358979\n"
          ]
        }
      ],
      "source": [
        "from math import sqrt\n",
        "from math import pi\n",
        "\n",
        "r = 7.54\n",
        "area = pi+(r**2)\n",
        "\n",
        "print(\"Valor de PI\",pi)\n",
        "print(\"Area: \",area)"
      ]
    },
    {
      "cell_type": "markdown",
      "metadata": {
        "id": "Wov9LIRwOz9g"
      },
      "source": [
        "### Estructuras de control"
      ]
    },
    {
      "cell_type": "code",
      "execution_count": 15,
      "metadata": {
        "colab": {
          "base_uri": "https://localhost:8080/"
        },
        "id": "nQoklRCfOzNt",
        "outputId": "f165be90-3f86-44a3-e457-f65ff5083dc6"
      },
      "outputs": [
        {
          "name": "stdout",
          "output_type": "stream",
          "text": [
            "Pago en efectivo\n",
            "Pago con credito\n",
            "invalid literal for int() with base 10: 'salir'\n"
          ]
        }
      ],
      "source": [
        "#if\n",
        "v = 0\n",
        "while v != 'salir':\n",
        "  v = input(\"Ingresa un monto: \")\n",
        "  try:      \n",
        "        #v = int (input(\"Ingresa un monto: \"))\n",
        "        v = int(v)\n",
        "        type(v)\n",
        "        if v <= 100:\n",
        "          print(\"Pago en efectivo\")\n",
        "        elif v > 100 and v < 300:\n",
        "          print(\"Pago con debito\")\n",
        "        else:\n",
        "          print(\"Pago con credito\")\n",
        "  except ValueError as e:\n",
        "    print(e)\n"
      ]
    },
    {
      "cell_type": "code",
      "execution_count": 17,
      "metadata": {
        "colab": {
          "base_uri": "https://localhost:8080/"
        },
        "id": "NknRpEL3SKIj",
        "outputId": "962a3ecc-0b5a-486c-f294-34759cdf9191"
      },
      "outputs": [
        {
          "name": "stdout",
          "output_type": "stream",
          "text": [
            "Tabla de multiplicar 7\n",
            "7 x 1 = 7\n",
            "7 x 2 = 14\n",
            "7 x 3 = 21\n",
            "7 x 4 = 28\n",
            "7 x 5 = 35\n",
            "7 x 6 = 42\n",
            "7 x 7 = 49\n",
            "7 x 8 = 56\n",
            "7 x 9 = 63\n",
            "7 x 10 = 70\n"
          ]
        }
      ],
      "source": [
        "n = int(input(\"Ingresa el numero de la tabla de multiplicar a mostrar: \"))\n",
        "print(\"Tabla de multiplicar\",n)\n",
        "\n",
        "#i = 1\n",
        "for i in range(1,11):\n",
        "  print(n,'x',i,'=',n*i)\n",
        "  #i += i"
      ]
    },
    {
      "cell_type": "markdown",
      "metadata": {
        "id": "b7ImYBOiTxDp"
      },
      "source": [
        "## Arreglos"
      ]
    },
    {
      "cell_type": "code",
      "execution_count": 18,
      "metadata": {
        "colab": {
          "base_uri": "https://localhost:8080/"
        },
        "id": "TKvEWUONTNjc",
        "outputId": "49185ae4-524f-4b33-aa88-45b35d9ce9d1"
      },
      "outputs": [
        {
          "name": "stdout",
          "output_type": "stream",
          "text": [
            "T\n",
            "a\n",
            "l\n",
            "l\n",
            "e\n",
            "r\n",
            " \n",
            "d\n",
            "e\n",
            " \n",
            "d\n",
            "a\n",
            "t\n",
            "o\n",
            "s\n",
            " \n",
            "c\n",
            "o\n",
            "n\n",
            " \n",
            "p\n",
            "y\n",
            "t\n",
            "h\n",
            "o\n",
            "n\n"
          ]
        }
      ],
      "source": [
        "cadena = 'Taller de datos con python'\n",
        "\n",
        "for c in cadena:\n",
        "  print(c) "
      ]
    },
    {
      "cell_type": "code",
      "execution_count": 19,
      "metadata": {
        "colab": {
          "base_uri": "https://localhost:8080/",
          "height": 35
        },
        "id": "Bmq-chHLTu1f",
        "outputId": "6a2d1842-129e-4a86-cd7c-c401b8f392c1"
      },
      "outputs": [
        {
          "data": {
            "text/plain": [
              "'e'"
            ]
          },
          "execution_count": 19,
          "metadata": {},
          "output_type": "execute_result"
        }
      ],
      "source": [
        "cadena[4]"
      ]
    },
    {
      "cell_type": "markdown",
      "metadata": {
        "id": "m03dtaGBZClS"
      },
      "source": [
        "vocales = 'aeiou'"
      ]
    },
    {
      "cell_type": "code",
      "execution_count": 20,
      "metadata": {
        "colab": {
          "base_uri": "https://localhost:8080/"
        },
        "id": "o3-xzaLaULAN",
        "outputId": "92dedbe1-3752-4bf2-b3b2-8d97840fe698"
      },
      "outputs": [
        {
          "name": "stdout",
          "output_type": "stream",
          "text": [
            "2006347578256\n"
          ]
        }
      ],
      "source": [
        "print(id(cadena))"
      ]
    },
    {
      "cell_type": "code",
      "execution_count": 21,
      "metadata": {
        "colab": {
          "base_uri": "https://localhost:8080/"
        },
        "id": "zGCo41DElEPg",
        "outputId": "69a7d19f-d20f-4b42-d6af-6f0b19da6289"
      },
      "outputs": [
        {
          "name": "stdout",
          "output_type": "stream",
          "text": [
            "2006343416560\n",
            "2006367981872\n",
            "2006367981872\n"
          ]
        }
      ],
      "source": [
        "cadena = 'Taller de datos con Python'\n",
        "print(id(cadena))\n",
        "cadena = \"Hola mundo\"\n",
        "print(id(cadena))\n",
        "cadena2 = cadena\n",
        "print(id(cadena2))"
      ]
    },
    {
      "cell_type": "code",
      "execution_count": 22,
      "metadata": {
        "colab": {
          "base_uri": "https://localhost:8080/"
        },
        "id": "h9_zqJGZlImW",
        "outputId": "ed2d564b-a38e-43b6-e48b-4c8a87361bf6"
      },
      "outputs": [
        {
          "name": "stdout",
          "output_type": "stream",
          "text": [
            "T\n",
            "a\n",
            "l\n",
            "l\n",
            "e\n",
            "r\n",
            " \n",
            "d\n",
            "e\n",
            " \n",
            "d\n",
            "a\n",
            "t\n",
            "o\n",
            "s\n",
            " \n",
            "c\n",
            "o\n",
            "n\n",
            " \n"
          ]
        }
      ],
      "source": [
        "cadena = 'Taller de datos con Python'\n",
        "for c in cadena:\n",
        "  if c == \"P\":\n",
        "    break\n",
        "  print(c)"
      ]
    },
    {
      "cell_type": "code",
      "execution_count": 23,
      "metadata": {
        "colab": {
          "base_uri": "https://localhost:8080/"
        },
        "id": "iE8nKKxQlQZl",
        "outputId": "0a614164-a77b-487f-dd06-46b3a2d795bb"
      },
      "outputs": [
        {
          "name": "stdout",
          "output_type": "stream",
          "text": [
            "2006368326384\n",
            "<built-in method lower of str object at 0x000001D324DF12F0>\n",
            "taller de datos con python\n",
            "TALLER DE DATOS CON PYTHON\n",
            "Taller de datos con Python\n",
            "2006368326384\n"
          ]
        }
      ],
      "source": [
        "#cadena = 'Taller de datos con Python'\n",
        "print(id(cadena))\n",
        "print(cadena.lower)\n",
        "print(cadena.lower())\n",
        "print(cadena.upper())\n",
        "print(cadena)\n",
        "print(id(cadena))"
      ]
    },
    {
      "cell_type": "code",
      "execution_count": 24,
      "metadata": {
        "colab": {
          "base_uri": "https://localhost:8080/"
        },
        "id": "GoP645tqlT_2",
        "outputId": "c67fe1f9-c4bd-4e45-84d2-8d733ba9ddb9"
      },
      "outputs": [
        {
          "name": "stdout",
          "output_type": "stream",
          "text": [
            "La cadena Taller de datos con Python tiene 7 vocales 15 consonantes y 4 caracteres especiales\n"
          ]
        }
      ],
      "source": [
        "#cadena = 'Taller de datos con Python'\n",
        "vocales = 'aeiou'\n",
        "especiales = ' '\n",
        "no_vocales = 0\n",
        "no_consonantes = 0\n",
        "no_especiales = 0\n",
        "for c in cadena.lower():\n",
        "  if c in vocales:\n",
        "    no_vocales += 1\n",
        "  elif c not in especiales:\n",
        "    no_consonantes += 1\n",
        "  else:\n",
        "    no_especiales += 1\n",
        "\n",
        "print(\"La cadena\", cadena,\"tiene\", no_vocales,\"vocales\", no_consonantes,\"consonantes y\"\n",
        ", no_especiales,\"caracteres especiales\")"
      ]
    },
    {
      "cell_type": "code",
      "execution_count": 26,
      "metadata": {
        "colab": {
          "base_uri": "https://localhost:8080/"
        },
        "id": "8TYBjjrLYyh_",
        "outputId": "254a9d67-183d-4b57-d2d1-21f013cd8c6b"
      },
      "outputs": [
        {
          "name": "stdout",
          "output_type": "stream",
          "text": [
            "Hugo\n",
            "Antonio\n",
            "Efrain\n",
            "Felipe\n",
            "Gabriela\n",
            "Ivana\n",
            "Rosa Maria\n",
            "La lista tiene 24 vocales 21 consonantes y 1 caracteres especiales\n"
          ]
        }
      ],
      "source": [
        "lista = ['Hugo', 'Antonio','Efrain','Felipe','Gabriela','Ivana','Rosa Maria']\n",
        "vocales = 'aeiou'\n",
        "especiales = ' '\n",
        "no_vocales = 0\n",
        "no_consonantes = 0\n",
        "no_especiales = 0\n",
        "\n",
        "for nombre in lista:\n",
        "  print(nombre)\n",
        "  for c in nombre.lower():\n",
        "    if c in vocales:\n",
        "      no_vocales += 1\n",
        "    elif c not in especiales:\n",
        "      no_consonantes += 1\n",
        "    else:\n",
        "      no_especiales += 1\n",
        "\n",
        "print(\"La lista\", \"tiene\", no_vocales,\"vocales\", no_consonantes,\"consonantes y\"\n",
        ", no_especiales,\"caracteres especiales\")"
      ]
    },
    {
      "cell_type": "code",
      "execution_count": 27,
      "metadata": {
        "colab": {
          "base_uri": "https://localhost:8080/"
        },
        "id": "hc-BqUBHa_q7",
        "outputId": "176c0551-1251-4b81-ca21-a5c9ff39bf06"
      },
      "outputs": [
        {
          "name": "stdout",
          "output_type": "stream",
          "text": [
            "hola hola\n",
            "holaholahola\n",
            "h\n",
            "o\n",
            "l\n",
            "a\n",
            "h\n",
            "o\n",
            "l\n",
            "a\n",
            "h\n",
            "o\n",
            "l\n",
            "a\n"
          ]
        }
      ],
      "source": [
        "cadena = 'hola'\n",
        "print (cadena + \" \" + cadena)\n",
        "print (cadena*3)\n",
        "len(cadena)\n",
        "\n",
        "for c in cadena*3:\n",
        "  print(c)\n",
        "  "
      ]
    },
    {
      "cell_type": "code",
      "execution_count": 28,
      "metadata": {
        "colab": {
          "base_uri": "https://localhost:8080/"
        },
        "id": "cXQz5KhscLlR",
        "outputId": "556a6fe5-c286-4d9f-cb48-02951b210caf"
      },
      "outputs": [
        {
          "name": "stdout",
          "output_type": "stream",
          "text": [
            "T\n",
            "d\n",
            "p\n",
            "n\n",
            "26\n"
          ]
        }
      ],
      "source": [
        "cadena = 'Taller de datos con python'\n",
        "print(cadena[0])\n",
        "print(cadena[10])\n",
        "print(cadena[20])\n",
        "print(cadena[len(cadena)-1])\n",
        "print(len(cadena))"
      ]
    },
    {
      "cell_type": "code",
      "execution_count": 29,
      "metadata": {
        "colab": {
          "base_uri": "https://localhost:8080/"
        },
        "id": "ZvhWcfAjcsQY",
        "outputId": "f0e24182-6c0c-4028-df03-d23fa98b6f72"
      },
      "outputs": [
        {
          "name": "stdout",
          "output_type": "stream",
          "text": [
            "n\n",
            " \n",
            "T\n"
          ]
        }
      ],
      "source": [
        "cadena = 'Taller de datos con python'\n",
        "print(cadena[-1])\n",
        "print(cadena[-20])\n",
        "print(cadena[-26])"
      ]
    },
    {
      "cell_type": "code",
      "execution_count": 30,
      "metadata": {
        "colab": {
          "base_uri": "https://localhost:8080/"
        },
        "id": "Ds9LORv2dA0B",
        "outputId": "da91ce75-2301-491c-a04c-bf67d67f32f1"
      },
      "outputs": [
        {
          "name": "stdout",
          "output_type": "stream",
          "text": [
            "Tall\n",
            "er de datos co\n",
            "er d\n"
          ]
        }
      ],
      "source": [
        "#Slicing\n",
        "print(cadena[0:4]) #0-3\n",
        "print(cadena[4:18])\n",
        "print(cadena[-22:-18])"
      ]
    },
    {
      "cell_type": "code",
      "execution_count": 31,
      "metadata": {
        "id": "4zta53Q7d2Zz"
      },
      "outputs": [
        {
          "name": "stdout",
          "output_type": "stream",
          "text": [
            "Talle\n",
            "er de datos co\n",
            "er d\n"
          ]
        }
      ],
      "source": [
        "print(cadena[0:5]) #0 al 4\n",
        "print(cadena[4:18]) #5 al final de la cadena\n",
        "print(cadena[-22:-18]) #toda la cadena"
      ]
    }
  ],
  "metadata": {
    "colab": {
      "collapsed_sections": [],
      "provenance": []
    },
    "kernelspec": {
      "display_name": "Python 3.10.6 64-bit",
      "language": "python",
      "name": "python3"
    },
    "language_info": {
      "codemirror_mode": {
        "name": "ipython",
        "version": 3
      },
      "file_extension": ".py",
      "mimetype": "text/x-python",
      "name": "python",
      "nbconvert_exporter": "python",
      "pygments_lexer": "ipython3",
      "version": "3.10.6"
    },
    "vscode": {
      "interpreter": {
        "hash": "1877db499a7b4ab35f7833c424fb50f3ec775240da6b00a811e00449570fd16f"
      }
    }
  },
  "nbformat": 4,
  "nbformat_minor": 0
}
