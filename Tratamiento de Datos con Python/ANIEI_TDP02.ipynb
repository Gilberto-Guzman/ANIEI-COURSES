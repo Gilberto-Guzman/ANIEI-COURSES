{
  "cells": [
    {
      "cell_type": "markdown",
      "metadata": {
        "id": "NpkL4SJcplCt"
      },
      "source": [
        "## Diccionarios\n",
        "#### Un diccionario es un objeto de la clase dict. Es una colección desordenada, lo que significa que mientras se itera, el orden de recuperación no está garantizado. Las claves y valores del diccionario pueden ser de cualquier tipo. También pueden ser Ninguno. La clave y su valor se separan mediante dos puntos.\n"
      ]
    },
    {
      "cell_type": "code",
      "execution_count": 1,
      "metadata": {
        "colab": {
          "base_uri": "https://localhost:8080/"
        },
        "id": "KWwMuPnuYYec",
        "outputId": "05d8ce10-5813-4f91-bed3-a867e71d8e9c"
      },
      "outputs": [
        {
          "name": "stdout",
          "output_type": "stream",
          "text": [
            "<class 'dict'>\n",
            "{'nombre': 'Juan', 'edad': 22, 'cursos': ['Python', 'Ciencia de datos', 'Big Data']}\n"
          ]
        }
      ],
      "source": [
        "diccionario = {'nombre' : 'Juan', 'edad' : 22, 'cursos': ['Python','Ciencia de datos','Big Data'] }\n",
        "print(type(diccionario))\n",
        "print(diccionario)"
      ]
    },
    {
      "cell_type": "code",
      "execution_count": 2,
      "metadata": {
        "colab": {
          "base_uri": "https://localhost:8080/"
        },
        "id": "lW7OLQ5angBk",
        "outputId": "416f200d-5a3f-4146-8f54-9adb007ef51b"
      },
      "outputs": [
        {
          "name": "stdout",
          "output_type": "stream",
          "text": [
            "<class 'dict'>\n",
            "{'nombre': 'Juan', 'edad': 22, 'cursos': ['Python', 'Ciencia de datos', 'Big Data']}\n"
          ]
        }
      ],
      "source": [
        "diccionario = dict(nombre = 'Juan', \n",
        "                   edad = 22, \n",
        "                   cursos=  ['Python','Ciencia de datos','Big Data'])\n",
        "print(type(diccionario))\n",
        "print(diccionario)"
      ]
    },
    {
      "cell_type": "code",
      "execution_count": 3,
      "metadata": {
        "colab": {
          "base_uri": "https://localhost:8080/"
        },
        "id": "IZiB5RgTniNW",
        "outputId": "850f61dc-854d-40c6-8491-6219ef33e798"
      },
      "outputs": [
        {
          "name": "stdout",
          "output_type": "stream",
          "text": [
            "Juan\n",
            "22\n",
            "['Python', 'Ciencia de datos', 'Big Data']\n"
          ]
        }
      ],
      "source": [
        "print(diccionario['nombre'])\n",
        "print(diccionario['edad'])\n",
        "print(diccionario['cursos'])"
      ]
    },
    {
      "cell_type": "code",
      "execution_count": 4,
      "metadata": {
        "colab": {
          "base_uri": "https://localhost:8080/"
        },
        "id": "Cs4Ze58InkCa",
        "outputId": "fb59c690-8925-456f-f0ba-ade242f10c91"
      },
      "outputs": [
        {
          "name": "stdout",
          "output_type": "stream",
          "text": [
            "dict_keys(['nombre', 'edad', 'cursos'])\n",
            "dict_values(['Juan', 22, ['Python', 'Ciencia de datos', 'Big Data']])\n",
            "dict_items([('nombre', 'Juan'), ('edad', 22), ('cursos', ['Python', 'Ciencia de datos', 'Big Data'])])\n"
          ]
        }
      ],
      "source": [
        "print(diccionario.keys())\n",
        "print(diccionario.values())\n",
        "print(diccionario.items())"
      ]
    },
    {
      "cell_type": "code",
      "execution_count": 5,
      "metadata": {
        "colab": {
          "base_uri": "https://localhost:8080/"
        },
        "id": "N_COvbConlxY",
        "outputId": "1aea41c7-a7c2-4078-d0d7-25cd3a0b8a26"
      },
      "outputs": [
        {
          "name": "stdout",
          "output_type": "stream",
          "text": [
            "Juan\n",
            "22\n",
            "['Python', 'Ciencia de datos', 'Big Data']\n"
          ]
        }
      ],
      "source": [
        "for v in diccionario.values():\n",
        "  print(v)"
      ]
    },
    {
      "cell_type": "code",
      "execution_count": 6,
      "metadata": {
        "colab": {
          "base_uri": "https://localhost:8080/"
        },
        "id": "g8OQNd1Lnpax",
        "outputId": "c6432f09-e314-45d4-e385-b6f59ff6beea"
      },
      "outputs": [
        {
          "name": "stdout",
          "output_type": "stream",
          "text": [
            "Tokyo:38140000;Delhi:26454000;Shanghai:24484000;Mumbai:21357000;São Paulo:21297000;CDMX:24800000\n",
            "<class 'str'>\n",
            "['Tokyo:38140000', 'Delhi:26454000', 'Shanghai:24484000', 'Mumbai:21357000', 'São Paulo:21297000', 'CDMX:24800000']\n"
          ]
        }
      ],
      "source": [
        "datos = ('Tokyo:38140000;Delhi:26454000;Shanghai:24484000;'\n",
        "    'Mumbai:21357000;São Paulo:21297000;CDMX:24800000')\n",
        "print(datos)\n",
        "print(type(datos))\n",
        "print(datos.split(\";\"))"
      ]
    },
    {
      "cell_type": "code",
      "execution_count": 7,
      "metadata": {
        "colab": {
          "base_uri": "https://localhost:8080/"
        },
        "id": "LExfxs4EnuFe",
        "outputId": "f1864ecd-0d23-475a-c6f4-fc53867011bf"
      },
      "outputs": [
        {
          "name": "stdout",
          "output_type": "stream",
          "text": [
            "{'Tokyo': 38140000, 'Delhi': 26454000, 'Shanghai': 24484000, 'Mumbai': 21357000, 'São Paulo': 21297000, 'CDMX': 24800000}\n",
            "<class 'int'>\n",
            "True\n",
            "False\n",
            "True\n"
          ]
        }
      ],
      "source": [
        "ciudades = {}\n",
        "for r in datos.split(\";\"):\n",
        "  ciudad, poblacion = r.split(\":\")\n",
        "  ciudades[ciudad] = int(poblacion)\n",
        "\n",
        "print(ciudades)\n",
        "print(type(ciudades['Tokyo']))\n",
        "print('Tokyo' in ciudades)\n",
        "print('Monterrey' in ciudades)\n",
        "print('Monterrey' not in ciudades)"
      ]
    },
    {
      "cell_type": "code",
      "execution_count": 8,
      "metadata": {
        "colab": {
          "base_uri": "https://localhost:8080/"
        },
        "id": "JtHGzr03nuk3",
        "outputId": "333af1cc-cdfd-4e22-885f-3687a7feb591"
      },
      "outputs": [
        {
          "data": {
            "text/plain": [
              "{'S': 1,\n",
              " 'u': 1,\n",
              " 'p': 2,\n",
              " 'e': 2,\n",
              " 'r': 2,\n",
              " 'c': 2,\n",
              " 'a': 3,\n",
              " 'l': 3,\n",
              " 'i': 6,\n",
              " 'f': 1,\n",
              " 'g': 1,\n",
              " 's': 3,\n",
              " 't': 1,\n",
              " 'o': 3,\n",
              " 'd': 1}"
            ]
          },
          "execution_count": 8,
          "metadata": {},
          "output_type": "execute_result"
        }
      ],
      "source": [
        "palabra = \"Supercalifragilisticoespialidoso\"\n",
        "letras = {}\n",
        "for letra in palabra:\n",
        "  if letra in letras:\n",
        "    letras[letra] += 1\n",
        "  else:\n",
        "    letras[letra] = 1\n",
        "\n",
        "letras"
      ]
    },
    {
      "cell_type": "code",
      "execution_count": 9,
      "metadata": {
        "colab": {
          "base_uri": "https://localhost:8080/"
        },
        "id": "sq24DFtXnwev",
        "outputId": "cbcfbafa-ef01-46d3-f390-0238b3ffb8ec"
      },
      "outputs": [
        {
          "name": "stdout",
          "output_type": "stream",
          "text": [
            "['mesa', 'movil', 'barco', 'coche', 'avion', 'bandeja', 'casa', 'monitor', 'carretera', 'arco']\n",
            "['mesa', 'movil', 'buque', 'coche', 'avioneta', 'bandeja', 'casa', 'teclado', 'carretera', 'arco', 'cartera']\n"
          ]
        }
      ],
      "source": [
        "palabras = [\n",
        "    'mesa', 'movil', 'barco','coche','avion','bandeja','casa','monitor','carretera',\n",
        "    'arco',\n",
        "]\n",
        "\n",
        "palabras2 = [\n",
        "    'mesa','movil','buque','coche','avioneta','bandeja','casa','teclado','carretera','arco',\n",
        "    'cartera'\n",
        "]\n",
        "\n",
        "print(palabras)\n",
        "print(palabras2)"
      ]
    },
    {
      "cell_type": "code",
      "execution_count": 10,
      "metadata": {
        "colab": {
          "base_uri": "https://localhost:8080/"
        },
        "id": "BhWUmKUXnz0R",
        "outputId": "499f61b4-d801-4784-dc7a-70904858a83f"
      },
      "outputs": [
        {
          "data": {
            "text/plain": [
              "{'m': ['mesa', 'movil', 'monitor', 'mesa', 'movil'],\n",
              " 'b': ['barco', 'bandeja', 'buque', 'bandeja'],\n",
              " 'c': ['coche', 'casa', 'carretera', 'coche', 'casa', 'carretera', 'cartera'],\n",
              " 'a': ['avion', 'arco', 'avioneta', 'arco'],\n",
              " 't': ['teclado']}"
            ]
          },
          "execution_count": 10,
          "metadata": {},
          "output_type": "execute_result"
        }
      ],
      "source": [
        "grupo_letras = {}\n",
        "for lista in [palabras, palabras2]:\n",
        "  for palabra in lista:\n",
        "    key = palabra[0]\n",
        "    if key in grupo_letras:\n",
        "      grupo_letras[key].append(palabra)\n",
        "    else:\n",
        "      grupo_letras[key] = [palabra]\n",
        "\n",
        "grupo_letras"
      ]
    },
    {
      "cell_type": "markdown",
      "metadata": {
        "id": "Xoidx3zJuSzJ"
      },
      "source": [
        "## Listas\n",
        "#### Las listas se utilizan para almacenar varios elementos en una sola variable. Las listas son uno de los 4 tipos de datos incorporados en Python que se utilizan para almacenar colecciones de datos, los otros 3 son Tuple, Set y Dictionary, todos con diferentes calidades y usos."
      ]
    },
    {
      "cell_type": "code",
      "execution_count": 11,
      "metadata": {
        "colab": {
          "base_uri": "https://localhost:8080/"
        },
        "id": "oW2f36Hmn2Jw",
        "outputId": "b839246b-848a-42a5-83c7-8db213d6914f"
      },
      "outputs": [
        {
          "data": {
            "text/plain": [
              "['Python', 'Ciencia de datos', 'Big Data', 'Python', 'Base de datos']"
            ]
          },
          "execution_count": 11,
          "metadata": {},
          "output_type": "execute_result"
        }
      ],
      "source": [
        "lista_cursos = ['Python', 'Ciencia de datos', 'Big Data', 'Python', 'Base de datos']\n",
        "lista_cursos"
      ]
    },
    {
      "cell_type": "code",
      "execution_count": 12,
      "metadata": {
        "colab": {
          "base_uri": "https://localhost:8080/"
        },
        "id": "AFSTfr-Un3ml",
        "outputId": "cee6e16c-5ca7-4ce9-9e22-e1706645dba6"
      },
      "outputs": [
        {
          "name": "stdout",
          "output_type": "stream",
          "text": [
            "Python\n",
            "Base de datos\n",
            "['Ciencia de datos', 'Big Data', 'Python']\n"
          ]
        }
      ],
      "source": [
        "print(lista_cursos[0])\n",
        "print(lista_cursos[-1])\n",
        "print(lista_cursos[1:4])"
      ]
    },
    {
      "cell_type": "code",
      "execution_count": 13,
      "metadata": {
        "colab": {
          "base_uri": "https://localhost:8080/"
        },
        "id": "gSxHNozsn5lu",
        "outputId": "627dec30-25b6-44c2-93ec-6da74540d5b9"
      },
      "outputs": [
        {
          "data": {
            "text/plain": [
              "['Java', 'Ciencia de datos', 'Big Data', 'Python', 'Base de datos']"
            ]
          },
          "execution_count": 13,
          "metadata": {},
          "output_type": "execute_result"
        }
      ],
      "source": [
        "lista_cursos[0] = 'Java'\n",
        "lista_cursos"
      ]
    },
    {
      "cell_type": "code",
      "execution_count": 14,
      "metadata": {
        "colab": {
          "base_uri": "https://localhost:8080/"
        },
        "id": "A_I4uwiDn7NF",
        "outputId": "0069e8e5-53ad-4028-c84c-4da8e1039ac2"
      },
      "outputs": [
        {
          "data": {
            "text/plain": [
              "('Python', 'Ciencia de datos', 'Big Data', 'Python', 'Base de datos')"
            ]
          },
          "execution_count": 14,
          "metadata": {},
          "output_type": "execute_result"
        }
      ],
      "source": [
        "tupla_cursos = ('Python', 'Ciencia de datos', 'Big Data', 'Python', 'Base de datos')\n",
        "tupla_cursos"
      ]
    },
    {
      "cell_type": "code",
      "execution_count": 15,
      "metadata": {
        "colab": {
          "base_uri": "https://localhost:8080/"
        },
        "id": "QX-4P9lrn8cx",
        "outputId": "cd646a85-6fe3-44db-c5c8-bc1c101936fc"
      },
      "outputs": [
        {
          "name": "stdout",
          "output_type": "stream",
          "text": [
            "Python\n",
            "Base de datos\n",
            "('Ciencia de datos', 'Big Data', 'Python')\n"
          ]
        }
      ],
      "source": [
        "print(tupla_cursos[0])\n",
        "print(tupla_cursos[-1])\n",
        "print(tupla_cursos[1:4])"
      ]
    },
    {
      "cell_type": "code",
      "execution_count": 16,
      "metadata": {
        "colab": {
          "base_uri": "https://localhost:8080/",
          "height": 200
        },
        "id": "VIEUfocBn-Ab",
        "outputId": "439035ef-f967-46e3-c828-039f7409b24e"
      },
      "outputs": [
        {
          "ename": "TypeError",
          "evalue": "'tuple' object does not support item assignment",
          "output_type": "error",
          "traceback": [
            "\u001b[1;31m---------------------------------------------------------------------------\u001b[0m",
            "\u001b[1;31mTypeError\u001b[0m                                 Traceback (most recent call last)",
            "\u001b[1;32md:\\ANIEI CURSOS\\Tratamiento de Datos con Python\\ANIEI_TDP02.ipynb Celda 18\u001b[0m in \u001b[0;36m<cell line: 2>\u001b[1;34m()\u001b[0m\n\u001b[0;32m      <a href='vscode-notebook-cell:/d%3A/ANIEI%20CURSOS/Tratamiento%20de%20Datos%20con%20Python/ANIEI_TDP02.ipynb#X23sZmlsZQ%3D%3D?line=0'>1</a>\u001b[0m \u001b[39m#La tuplas son inmitables, no podemos cambiar los elementos\u001b[39;00m\n\u001b[1;32m----> <a href='vscode-notebook-cell:/d%3A/ANIEI%20CURSOS/Tratamiento%20de%20Datos%20con%20Python/ANIEI_TDP02.ipynb#X23sZmlsZQ%3D%3D?line=1'>2</a>\u001b[0m tupla_cursos[\u001b[39m0\u001b[39m] \u001b[39m=\u001b[39m \u001b[39m'\u001b[39m\u001b[39mJava\u001b[39m\u001b[39m'\u001b[39m\n\u001b[0;32m      <a href='vscode-notebook-cell:/d%3A/ANIEI%20CURSOS/Tratamiento%20de%20Datos%20con%20Python/ANIEI_TDP02.ipynb#X23sZmlsZQ%3D%3D?line=2'>3</a>\u001b[0m tupla_cursos\n",
            "\u001b[1;31mTypeError\u001b[0m: 'tuple' object does not support item assignment"
          ]
        }
      ],
      "source": [
        "#La tuplas son inmitables, no podemos cambiar los elementos\n",
        "tupla_cursos[0] = 'Java'\n",
        "tupla_cursos"
      ]
    },
    {
      "cell_type": "code",
      "execution_count": 17,
      "metadata": {
        "colab": {
          "base_uri": "https://localhost:8080/"
        },
        "id": "6UfkhYaKoCQ9",
        "outputId": "2daac500-89b1-49c4-de0c-3ebb2c22299d"
      },
      "outputs": [
        {
          "data": {
            "text/plain": [
              "['Python', 'Ciencia de datos', 'Big Data', 'Python', 'Base de datos']"
            ]
          },
          "execution_count": 17,
          "metadata": {},
          "output_type": "execute_result"
        }
      ],
      "source": [
        "lista_cursos = ['Python', 'Ciencia de datos', 'Big Data', 'Python', 'Base de datos']\n",
        "lista_cursos"
      ]
    },
    {
      "cell_type": "code",
      "execution_count": 18,
      "metadata": {
        "colab": {
          "base_uri": "https://localhost:8080/"
        },
        "id": "h7f_JmxQoHXM",
        "outputId": "ccb09707-60e9-42a2-afb2-3cd6785e72cd"
      },
      "outputs": [
        {
          "name": "stdout",
          "output_type": "stream",
          "text": [
            "{'Python', 'Base de datos', 'Ciencia de datos', 'Big Data'}\n",
            "<class 'set'>\n"
          ]
        }
      ],
      "source": [
        "set_cursos = set(lista_cursos)\n",
        "print(set_cursos)\n",
        "print(type(set_cursos))"
      ]
    },
    {
      "cell_type": "code",
      "execution_count": 19,
      "metadata": {
        "colab": {
          "base_uri": "https://localhost:8080/"
        },
        "id": "cyvMmk8coJG3",
        "outputId": "ee13bd41-3827-4e4b-8f5e-df10234826bf"
      },
      "outputs": [
        {
          "data": {
            "text/plain": [
              "{'Base de datos', 'Mineria', 'Pandas', 'Python'}"
            ]
          },
          "execution_count": 19,
          "metadata": {},
          "output_type": "execute_result"
        }
      ],
      "source": [
        "set_cursos2 = set(['Python', 'Pandas', 'Mineria', 'Base de datos'])\n",
        "set_cursos2"
      ]
    },
    {
      "cell_type": "code",
      "execution_count": 20,
      "metadata": {
        "colab": {
          "base_uri": "https://localhost:8080/"
        },
        "id": "D2Q2yy13oLDa",
        "outputId": "148ade6a-7cd4-433c-b8f8-16076a9b89de"
      },
      "outputs": [
        {
          "name": "stdout",
          "output_type": "stream",
          "text": [
            "{'Python', 'Base de datos', 'Ciencia de datos', 'Big Data'}\n",
            "{'Python', 'Mineria', 'Pandas', 'Base de datos'}\n",
            "---JOIN---\n",
            "{'Python', 'Base de datos'}\n",
            "{'Python', 'Base de datos'}\n"
          ]
        }
      ],
      "source": [
        "#JOIN\n",
        "print(set_cursos)\n",
        "print(set_cursos2)\n",
        "print(\"---JOIN---\")\n",
        "print(set_cursos & set_cursos2)\n",
        "print(set_cursos.intersection(set_cursos2))"
      ]
    },
    {
      "cell_type": "code",
      "execution_count": 21,
      "metadata": {
        "colab": {
          "base_uri": "https://localhost:8080/"
        },
        "id": "FFmKhaJzoMw2",
        "outputId": "fae3d8a4-20ea-44e1-afae-083fce78f144"
      },
      "outputs": [
        {
          "name": "stdout",
          "output_type": "stream",
          "text": [
            "{'Python', 'Base de datos', 'Ciencia de datos', 'Big Data'}\n",
            "{'Python', 'Mineria', 'Pandas', 'Base de datos'}\n",
            "---UNION---\n",
            "{'Mineria', 'Pandas', 'Python', 'Big Data', 'Ciencia de datos', 'Base de datos'}\n",
            "{'Mineria', 'Pandas', 'Python', 'Big Data', 'Ciencia de datos', 'Base de datos'}\n"
          ]
        }
      ],
      "source": [
        "#UNION\n",
        "print(set_cursos)\n",
        "print(set_cursos2)\n",
        "print(\"---UNION---\")\n",
        "print(set_cursos | set_cursos2)\n",
        "print(set_cursos.union(set_cursos2))"
      ]
    },
    {
      "cell_type": "code",
      "execution_count": 22,
      "metadata": {
        "colab": {
          "base_uri": "https://localhost:8080/"
        },
        "id": "Sj79SicUoPGU",
        "outputId": "33f2c953-1cdf-4480-a6bb-d23295b38d6e"
      },
      "outputs": [
        {
          "name": "stdout",
          "output_type": "stream",
          "text": [
            "{'Python', 'Base de datos', 'Ciencia de datos', 'Big Data'}\n",
            "{'Python', 'Mineria', 'Pandas', 'Base de datos'}\n",
            "---DIFERENCIA---\n",
            "{'Big Data', 'Ciencia de datos'}\n",
            "{'Big Data', 'Ciencia de datos'}\n"
          ]
        }
      ],
      "source": [
        "#DIFERENCIA\n",
        "print(set_cursos)\n",
        "print(set_cursos2)\n",
        "print(\"---DIFERENCIA---\")\n",
        "print(set_cursos - set_cursos2)\n",
        "print(set_cursos.difference(set_cursos2))"
      ]
    },
    {
      "cell_type": "code",
      "execution_count": 23,
      "metadata": {
        "colab": {
          "base_uri": "https://localhost:8080/"
        },
        "id": "polunrlDoS7C",
        "outputId": "e9ed97f8-4ba9-4efb-af26-6ffd20b51213"
      },
      "outputs": [
        {
          "name": "stdout",
          "output_type": "stream",
          "text": [
            "{'Python', 'Base de datos', 'Ciencia de datos', 'Big Data'}\n",
            "{'Python', 'Mineria', 'Pandas', 'Base de datos'}\n",
            "---DIFERENCIA---\n",
            "{'Mineria', 'Pandas'}\n",
            "{'Mineria', 'Pandas'}\n"
          ]
        }
      ],
      "source": [
        "#DIFERENCIA\n",
        "print(set_cursos)\n",
        "print(set_cursos2)\n",
        "print(\"---DIFERENCIA---\")\n",
        "print(set_cursos2 - set_cursos)\n",
        "print(set_cursos2.difference(set_cursos))"
      ]
    },
    {
      "cell_type": "code",
      "execution_count": 24,
      "metadata": {
        "colab": {
          "base_uri": "https://localhost:8080/"
        },
        "id": "8GkJxckfoVSu",
        "outputId": "b0a028a4-a9f8-47e2-bc41-da54e0e8647d"
      },
      "outputs": [
        {
          "name": "stdout",
          "output_type": "stream",
          "text": [
            "{'Python', 'Base de datos', 'Ciencia de datos', 'Big Data'}\n",
            "{'Python', 'Mineria', 'Pandas', 'Base de datos'}\n",
            "---DIFERENCIA---\n",
            "{'Mineria', 'Pandas', 'Big Data', 'Ciencia de datos'}\n",
            "{'Mineria', 'Pandas', 'Big Data', 'Ciencia de datos'}\n"
          ]
        }
      ],
      "source": [
        "#DIFERENCIA SIMETRICA\n",
        "print(set_cursos)\n",
        "print(set_cursos2)\n",
        "print(\"---DIFERENCIA---\")\n",
        "print(set_cursos2 ^ set_cursos)\n",
        "print(set_cursos2.symmetric_difference(set_cursos))"
      ]
    }
  ],
  "metadata": {
    "colab": {
      "provenance": []
    },
    "kernelspec": {
      "display_name": "Python 3.10.6 64-bit",
      "language": "python",
      "name": "python3"
    },
    "language_info": {
      "codemirror_mode": {
        "name": "ipython",
        "version": 3
      },
      "file_extension": ".py",
      "mimetype": "text/x-python",
      "name": "python",
      "nbconvert_exporter": "python",
      "pygments_lexer": "ipython3",
      "version": "3.10.6"
    },
    "vscode": {
      "interpreter": {
        "hash": "1877db499a7b4ab35f7833c424fb50f3ec775240da6b00a811e00449570fd16f"
      }
    }
  },
  "nbformat": 4,
  "nbformat_minor": 0
}
