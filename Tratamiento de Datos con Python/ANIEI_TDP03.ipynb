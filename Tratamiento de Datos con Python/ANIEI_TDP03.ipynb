{
  "cells": [
    {
      "cell_type": "code",
      "execution_count": 1,
      "metadata": {
        "id": "GRvHWI5wu8AE"
      },
      "outputs": [],
      "source": [
        "import numpy as np\n",
        "import pandas as pd"
      ]
    },
    {
      "cell_type": "code",
      "execution_count": 3,
      "metadata": {
        "colab": {
          "base_uri": "https://localhost:8080/",
          "height": 35
        },
        "id": "3bQX315bvIBM",
        "outputId": "4c304d86-a25e-4257-9460-2d90c8f073ed"
      },
      "outputs": [
        {
          "data": {
            "text/plain": [
              "'1.22.3'"
            ]
          },
          "execution_count": 3,
          "metadata": {},
          "output_type": "execute_result"
        }
      ],
      "source": [
        "np.__version__"
      ]
    },
    {
      "cell_type": "code",
      "execution_count": 4,
      "metadata": {
        "colab": {
          "base_uri": "https://localhost:8080/"
        },
        "id": "Rc3di0_AvJt9",
        "outputId": "6e458353-f72e-4ad3-ebb5-a9fb7357bbeb"
      },
      "outputs": [
        {
          "name": "stdout",
          "output_type": "stream",
          "text": [
            "[1, 2, 3]\n",
            "[1 2 3]\n"
          ]
        }
      ],
      "source": [
        "lista = [1,2,3]\n",
        "arreglo = np.array(lista)\n",
        "print(lista)\n",
        "print(arreglo)"
      ]
    },
    {
      "cell_type": "code",
      "execution_count": 5,
      "metadata": {
        "colab": {
          "base_uri": "https://localhost:8080/"
        },
        "id": "EOcx-qsMvL-3",
        "outputId": "03909dda-569a-4940-e462-dd045872561f"
      },
      "outputs": [
        {
          "data": {
            "text/plain": [
              "array([1, 2, 3])"
            ]
          },
          "execution_count": 5,
          "metadata": {},
          "output_type": "execute_result"
        }
      ],
      "source": [
        "arreglo"
      ]
    },
    {
      "cell_type": "code",
      "execution_count": 6,
      "metadata": {
        "colab": {
          "base_uri": "https://localhost:8080/"
        },
        "id": "CbMoq4JLvN_Y",
        "outputId": "67d23ea2-1786-41ed-b0c3-5eb975205f9c"
      },
      "outputs": [
        {
          "name": "stdout",
          "output_type": "stream",
          "text": [
            "<class 'list'>\n",
            "<class 'numpy.ndarray'>\n"
          ]
        }
      ],
      "source": [
        "print(type(lista))\n",
        "print(type(arreglo))"
      ]
    },
    {
      "cell_type": "code",
      "execution_count": 7,
      "metadata": {
        "colab": {
          "base_uri": "https://localhost:8080/"
        },
        "id": "0p5Ac4c6vP3E",
        "outputId": "079347a6-35e9-444b-f821-97c46aeddad4"
      },
      "outputs": [
        {
          "data": {
            "text/plain": [
              "(3,)"
            ]
          },
          "execution_count": 7,
          "metadata": {},
          "output_type": "execute_result"
        }
      ],
      "source": [
        "#arreglo 1dimensiional\n",
        "arreglo.shape"
      ]
    },
    {
      "cell_type": "code",
      "execution_count": 8,
      "metadata": {
        "colab": {
          "base_uri": "https://localhost:8080/"
        },
        "id": "YJ1rzi-KvSUN",
        "outputId": "3a58b7f6-7399-4938-a02c-2632deeeaf05"
      },
      "outputs": [
        {
          "name": "stdout",
          "output_type": "stream",
          "text": [
            "[[1 2 3 0]\n",
            " [4 5 6 0]\n",
            " [7 8 9 0]]\n",
            "(3, 4)\n",
            "[4 5 6 0]\n",
            "5\n"
          ]
        }
      ],
      "source": [
        "#arreglo 2dimensional\n",
        "b = np.array([[1, 2, 3, 0],[4, 5, 6, 0],[7, 8, 9, 0]])\n",
        "print(b)\n",
        "print(b.shape)\n",
        "print(b[1]) #recupera el renglon 2\n",
        "print(b[1][1]) #recupera el elemento 2 del renglon 2"
      ]
    },
    {
      "cell_type": "code",
      "execution_count": 9,
      "metadata": {
        "colab": {
          "base_uri": "https://localhost:8080/"
        },
        "id": "k3TVcxOrvUEJ",
        "outputId": "4be070ec-37db-4d9e-9068-ebbbc5702bdb"
      },
      "outputs": [
        {
          "name": "stdout",
          "output_type": "stream",
          "text": [
            "[[[0. 0. 0.]\n",
            "  [0. 0. 0.]\n",
            "  [0. 0. 0.]]\n",
            "\n",
            " [[0. 0. 0.]\n",
            "  [0. 0. 0.]\n",
            "  [0. 0. 0.]]\n",
            "\n",
            " [[0. 0. 0.]\n",
            "  [0. 0. 0.]\n",
            "  [0. 0. 0.]]]\n",
            "(3, 3, 3)\n"
          ]
        }
      ],
      "source": [
        "#arreglo 3dimensional\n",
        "i = 3\n",
        "j = 3\n",
        "k = 3\n",
        "c = np.zeros((i, j, k))\n",
        "print(c)\n",
        "print(c.shape)"
      ]
    },
    {
      "cell_type": "code",
      "execution_count": 10,
      "metadata": {
        "colab": {
          "base_uri": "https://localhost:8080/"
        },
        "id": "oih_X4QOvVua",
        "outputId": "08291267-e2b9-4bcf-a2de-0ada385044ef"
      },
      "outputs": [
        {
          "name": "stdout",
          "output_type": "stream",
          "text": [
            "[[[[[1 2 3 4]]]]]\n",
            "(1, 1, 1, 1, 4)\n",
            "4\n"
          ]
        }
      ],
      "source": [
        "#arreglo ndimensiona 5 dimensiones\n",
        "d = np.array([1, 2, 3, 4], ndmin=5)\n",
        "print(d)\n",
        "print(d.shape)\n",
        "print(d[0][0][0][0][3])"
      ]
    },
    {
      "cell_type": "code",
      "execution_count": 11,
      "metadata": {
        "colab": {
          "base_uri": "https://localhost:8080/"
        },
        "id": "uer9aOO7vXlo",
        "outputId": "b42615fb-6ee8-42d0-a346-76c129de2eac"
      },
      "outputs": [
        {
          "name": "stdout",
          "output_type": "stream",
          "text": [
            "1\n",
            "2\n",
            "3\n",
            "5\n"
          ]
        }
      ],
      "source": [
        "print(arreglo.ndim)\n",
        "print(b.ndim)\n",
        "print(c.ndim)\n",
        "print(d.ndim)"
      ]
    },
    {
      "cell_type": "code",
      "execution_count": 12,
      "metadata": {
        "colab": {
          "base_uri": "https://localhost:8080/"
        },
        "id": "SmS3JmRyvZRF",
        "outputId": "00156d68-af2f-4330-c489-58bba3dbfd54"
      },
      "outputs": [
        {
          "data": {
            "text/plain": [
              "array([[[[1., 1., 1., 1., 1., 1.],\n",
              "         [1., 1., 1., 1., 1., 1.],\n",
              "         [1., 1., 1., 1., 1., 1.]],\n",
              "\n",
              "        [[1., 1., 1., 1., 1., 1.],\n",
              "         [1., 1., 1., 1., 1., 1.],\n",
              "         [1., 1., 1., 1., 1., 1.]],\n",
              "\n",
              "        [[1., 1., 1., 1., 1., 1.],\n",
              "         [1., 1., 1., 1., 1., 1.],\n",
              "         [1., 1., 1., 1., 1., 1.]]],\n",
              "\n",
              "\n",
              "       [[[1., 1., 1., 1., 1., 1.],\n",
              "         [1., 1., 1., 1., 1., 1.],\n",
              "         [1., 1., 1., 1., 1., 1.]],\n",
              "\n",
              "        [[1., 1., 1., 1., 1., 1.],\n",
              "         [1., 1., 1., 1., 1., 1.],\n",
              "         [1., 1., 1., 1., 1., 1.]],\n",
              "\n",
              "        [[1., 1., 1., 1., 1., 1.],\n",
              "         [1., 1., 1., 1., 1., 1.],\n",
              "         [1., 1., 1., 1., 1., 1.]]]])"
            ]
          },
          "execution_count": 12,
          "metadata": {},
          "output_type": "execute_result"
        }
      ],
      "source": [
        "np.ones((2, 3, 3, 6))"
      ]
    },
    {
      "cell_type": "code",
      "execution_count": 13,
      "metadata": {
        "colab": {
          "base_uri": "https://localhost:8080/"
        },
        "id": "r8rs9HJyva5z",
        "outputId": "41e94ed9-9a66-4885-9e17-1965124222d3"
      },
      "outputs": [
        {
          "data": {
            "text/plain": [
              "array([0.        , 0.02040816, 0.04081633, 0.06122449, 0.08163265,\n",
              "       0.10204082, 0.12244898, 0.14285714, 0.16326531, 0.18367347,\n",
              "       0.20408163, 0.2244898 , 0.24489796, 0.26530612, 0.28571429,\n",
              "       0.30612245, 0.32653061, 0.34693878, 0.36734694, 0.3877551 ,\n",
              "       0.40816327, 0.42857143, 0.44897959, 0.46938776, 0.48979592,\n",
              "       0.51020408, 0.53061224, 0.55102041, 0.57142857, 0.59183673,\n",
              "       0.6122449 , 0.63265306, 0.65306122, 0.67346939, 0.69387755,\n",
              "       0.71428571, 0.73469388, 0.75510204, 0.7755102 , 0.79591837,\n",
              "       0.81632653, 0.83673469, 0.85714286, 0.87755102, 0.89795918,\n",
              "       0.91836735, 0.93877551, 0.95918367, 0.97959184, 1.        ])"
            ]
          },
          "execution_count": 13,
          "metadata": {},
          "output_type": "execute_result"
        }
      ],
      "source": [
        "np.linspace(0, 1)"
      ]
    },
    {
      "cell_type": "code",
      "execution_count": 14,
      "metadata": {
        "colab": {
          "base_uri": "https://localhost:8080/"
        },
        "id": "S-xgcjy9vdM0",
        "outputId": "e7db467e-8bd3-4454-fde8-de27e3331408"
      },
      "outputs": [
        {
          "data": {
            "text/plain": [
              "array([[[0.85504524, 0.87947954, 0.16700059, 0.03691624],\n",
              "        [0.61138398, 0.2513136 , 0.93122967, 0.82271798]],\n",
              "\n",
              "       [[0.02231493, 0.42222429, 0.72200726, 0.93098757],\n",
              "        [0.24710638, 0.66497334, 0.87245332, 0.20402378]]])"
            ]
          },
          "execution_count": 14,
          "metadata": {},
          "output_type": "execute_result"
        }
      ],
      "source": [
        "np.random.rand(2, 2, 4)"
      ]
    },
    {
      "cell_type": "code",
      "execution_count": 15,
      "metadata": {
        "colab": {
          "base_uri": "https://localhost:8080/"
        },
        "id": "2CYAKuPovfyH",
        "outputId": "72cae749-7291-440e-bd0b-685225b3c9ef"
      },
      "outputs": [
        {
          "data": {
            "text/plain": [
              "array([[[200, 244, 163, 263],\n",
              "        [203,  98, 195, 243]],\n",
              "\n",
              "       [[108, 248, 237,  63],\n",
              "        [ 92,  11, 168, 246]]])"
            ]
          },
          "execution_count": 15,
          "metadata": {},
          "output_type": "execute_result"
        }
      ],
      "source": [
        "np.random.randint(1, 300, (2, 2, 4))"
      ]
    },
    {
      "cell_type": "code",
      "execution_count": 16,
      "metadata": {
        "colab": {
          "base_uri": "https://localhost:8080/"
        },
        "id": "Y3S7YxYF4UiD",
        "outputId": "9c0b64dc-d826-4190-dba0-ea4d90d547d9"
      },
      "outputs": [
        {
          "data": {
            "text/plain": [
              "array([[ 1,  2,  3,  4],\n",
              "       [ 5,  6,  7,  8],\n",
              "       [ 9, 10, 11, 12]])"
            ]
          },
          "execution_count": 16,
          "metadata": {},
          "output_type": "execute_result"
        }
      ],
      "source": [
        "a = np.array([[1 , 2, 3, 4], [5, 6, 7, 8], [9, 10, 11, 12]])\n",
        "a"
      ]
    },
    {
      "cell_type": "code",
      "execution_count": 17,
      "metadata": {
        "colab": {
          "base_uri": "https://localhost:8080/"
        },
        "id": "pvBnuhfh5CUN",
        "outputId": "4a093a83-e81d-4407-b311-7efc924c0500"
      },
      "outputs": [
        {
          "name": "stdout",
          "output_type": "stream",
          "text": [
            "[ 5  6  7  8  9 10 11 12]\n",
            "[1 2 3]\n",
            "[[ True  True  True False]\n",
            " [False False False False]\n",
            " [False False False False]]\n"
          ]
        }
      ],
      "source": [
        "#Realizar un filtro en los elementos del array\n",
        "print(a[a >= 5])\n",
        "print(a[a <4])\n",
        "print(a < 4)"
      ]
    },
    {
      "cell_type": "code",
      "execution_count": 18,
      "metadata": {
        "colab": {
          "base_uri": "https://localhost:8080/"
        },
        "id": "jsJb7IAL5D61",
        "outputId": "8b6f8fa4-1c4f-4d56-d8a1-72cb4ba825f1"
      },
      "outputs": [
        {
          "name": "stdout",
          "output_type": "stream",
          "text": [
            "[[False  True False  True]\n",
            " [False  True False  True]\n",
            " [False  True False  True]]\n",
            "[ 2  4  6  8 10 12]\n"
          ]
        }
      ],
      "source": [
        "f = a%2==0\n",
        "print(f)\n",
        "print(a[f])"
      ]
    },
    {
      "cell_type": "code",
      "execution_count": 19,
      "metadata": {
        "colab": {
          "base_uri": "https://localhost:8080/"
        },
        "id": "BG-CKD2u5IG8",
        "outputId": "412e3dce-a10d-4e0f-e787-9d035c6d44d4"
      },
      "outputs": [
        {
          "name": "stdout",
          "output_type": "stream",
          "text": [
            "[[False False False False]\n",
            " [False  True False  True]\n",
            " [False  True False False]]\n",
            "[ 6  8 10]\n"
          ]
        }
      ],
      "source": [
        "f = (a%2==0) & ( (a>=5) & (a<=11) )\n",
        "print(f)\n",
        "print(a[f])"
      ]
    },
    {
      "cell_type": "code",
      "execution_count": 20,
      "metadata": {
        "colab": {
          "base_uri": "https://localhost:8080/"
        },
        "id": "h4SRbLpD5SH7",
        "outputId": "955380c5-ae5c-4607-f3f9-6409c5789ff0"
      },
      "outputs": [
        {
          "name": "stdout",
          "output_type": "stream",
          "text": [
            "[[False  True False  True]\n",
            " [ True  True  True  True]\n",
            " [ True  True  True  True]]\n",
            "[ 2  4  5  6  7  8  9 10 11 12]\n"
          ]
        }
      ],
      "source": [
        "f = (a%2==0) | ( (a>=5) & (a<=11) )\n",
        "print(f)\n",
        "print(a[f])"
      ]
    },
    {
      "cell_type": "code",
      "execution_count": 21,
      "metadata": {
        "colab": {
          "base_uri": "https://localhost:8080/"
        },
        "id": "DDA6BoCO5Tgt",
        "outputId": "7d8f0377-a131-4d3a-f9f4-6cd937c4735c"
      },
      "outputs": [
        {
          "name": "stdout",
          "output_type": "stream",
          "text": [
            "[[ 1  2  3  4]\n",
            " [ 5  6  7  8]\n",
            " [ 9 10 11 12]]\n",
            "(3, 4)\n",
            "[[1 1 1 1]\n",
            " [1 1 1 1]\n",
            " [1 1 1 1]]\n",
            "[[6 7 1 7]\n",
            " [5 8 1 9]\n",
            " [4 4 5 6]]\n"
          ]
        }
      ],
      "source": [
        "print(a)\n",
        "print(a.shape)\n",
        "b = np.ones((3, 4), dtype=int)\n",
        "print(b)\n",
        "c = np.random.randint(1, 10, (3, 4))\n",
        "print(c)"
      ]
    },
    {
      "cell_type": "code",
      "execution_count": 22,
      "metadata": {
        "colab": {
          "base_uri": "https://localhost:8080/"
        },
        "id": "Q6AaW5Yt5WMc",
        "outputId": "15b9e286-11f2-4e62-bbc6-12a57274c02e"
      },
      "outputs": [
        {
          "name": "stdout",
          "output_type": "stream",
          "text": [
            "[[ 2  3  4  5]\n",
            " [ 6  7  8  9]\n",
            " [10 11 12 13]]\n",
            "[[ 7  9  4 11]\n",
            " [10 14  8 17]\n",
            " [13 14 16 18]]\n"
          ]
        }
      ],
      "source": [
        "print(a + b)\n",
        "print(a + c)"
      ]
    },
    {
      "cell_type": "code",
      "execution_count": 23,
      "metadata": {
        "colab": {
          "base_uri": "https://localhost:8080/"
        },
        "id": "QT4ZY7ds5XgT",
        "outputId": "463248fb-7041-4861-aea7-2bc76f5480c3"
      },
      "outputs": [
        {
          "name": "stdout",
          "output_type": "stream",
          "text": [
            "[[ 1  2  3  4]\n",
            " [ 5  6  7  8]\n",
            " [ 9 10 11 12]]\n",
            "[[        1       128         3     16384]\n",
            " [     3125   1679616         7 134217728]\n",
            " [     6561     10000    161051   2985984]]\n"
          ]
        }
      ],
      "source": [
        "print(a ** b)\n",
        "print(a ** c)"
      ]
    },
    {
      "cell_type": "code",
      "execution_count": 24,
      "metadata": {
        "colab": {
          "base_uri": "https://localhost:8080/"
        },
        "id": "STuAFLce5Zt0",
        "outputId": "6177ff25-e242-4d07-8890-670d6cd59d16"
      },
      "outputs": [
        {
          "name": "stdout",
          "output_type": "stream",
          "text": [
            "[[ 1  2  3  4]\n",
            " [ 5  6  7  8]\n",
            " [ 9 10 11 12]]\n",
            "[[0 0 3 0]\n",
            " [1 0 7 0]\n",
            " [2 2 2 2]]\n"
          ]
        }
      ],
      "source": [
        "print(a // b)\n",
        "print(a // c)"
      ]
    },
    {
      "cell_type": "code",
      "execution_count": 25,
      "metadata": {
        "colab": {
          "base_uri": "https://localhost:8080/"
        },
        "id": "3W7GUb3J5cpR",
        "outputId": "9e78c9b9-8d11-4899-9877-b34a560a9708"
      },
      "outputs": [
        {
          "name": "stdout",
          "output_type": "stream",
          "text": [
            "[[ 1.  2.  3.  4.]\n",
            " [ 5.  6.  7.  8.]\n",
            " [ 9. 10. 11. 12.]]\n",
            "[[0.16666667 0.28571429 3.         0.57142857]\n",
            " [1.         0.75       7.         0.88888889]\n",
            " [2.25       2.5        2.2        2.        ]]\n"
          ]
        }
      ],
      "source": [
        "print(a / b)\n",
        "print(a / c)"
      ]
    },
    {
      "cell_type": "code",
      "execution_count": 26,
      "metadata": {
        "colab": {
          "base_uri": "https://localhost:8080/"
        },
        "id": "C3-THxFH5fJ6",
        "outputId": "ab996e00-6fed-40d6-94d5-d726b414141f"
      },
      "outputs": [
        {
          "name": "stdout",
          "output_type": "stream",
          "text": [
            "[[ 1.16  2.32  3.48  4.64]\n",
            " [ 5.8   6.96  8.12  9.28]\n",
            " [10.44 11.6  12.76 13.92]]\n",
            "[[2.16 2.16 2.16 2.16]\n",
            " [2.16 2.16 2.16 2.16]\n",
            " [2.16 2.16 2.16 2.16]]\n",
            "[[5.17241379 6.03448276 0.86206897 6.03448276]\n",
            " [4.31034483 6.89655172 0.86206897 7.75862069]\n",
            " [3.44827586 3.44827586 4.31034483 5.17241379]]\n"
          ]
        }
      ],
      "source": [
        "#Broadcasting\n",
        "print(a * 1.16)\n",
        "print(b + 1.16)\n",
        "print(c / 1.16)"
      ]
    },
    {
      "cell_type": "code",
      "execution_count": 27,
      "metadata": {
        "colab": {
          "base_uri": "https://localhost:8080/"
        },
        "id": "Ky7jvvd55hNr",
        "outputId": "2f8d58d4-fe3b-4783-b347-9fa5fd549570"
      },
      "outputs": [
        {
          "name": "stdout",
          "output_type": "stream",
          "text": [
            "[[2.44948974 2.64575131 1.         2.64575131]\n",
            " [2.23606798 2.82842712 1.         3.        ]\n",
            " [2.         2.         2.23606798 2.44948974]]\n",
            "[[ 0.96017029  0.75390225  0.54030231  0.75390225]\n",
            " [ 0.28366219 -0.14550003  0.54030231 -0.91113026]\n",
            " [-0.65364362 -0.65364362  0.28366219  0.96017029]]\n"
          ]
        }
      ],
      "source": [
        "print(np.sqrt(c))\n",
        "print(np.cos(c))"
      ]
    },
    {
      "cell_type": "code",
      "execution_count": 28,
      "metadata": {
        "colab": {
          "base_uri": "https://localhost:8080/"
        },
        "id": "5LBn9vgh5joc",
        "outputId": "07b79d43-2f74-4a47-a1e0-ab3b14959ba9"
      },
      "outputs": [
        {
          "name": "stdout",
          "output_type": "stream",
          "text": [
            "Promedio  5.25\n",
            "5.25\n",
            "Maximo  9\n",
            "Minimo  1\n",
            "Sumatoria  63\n"
          ]
        }
      ],
      "source": [
        "#Estadisticos descriptivos basicos\n",
        "print(\"Promedio \", c.mean())\n",
        "print(np.mean(c))\n",
        "print(\"Maximo \", c.max())\n",
        "print(\"Minimo \", c.min())\n",
        "print(\"Sumatoria \", c.sum())"
      ]
    },
    {
      "cell_type": "code",
      "execution_count": 29,
      "metadata": {
        "colab": {
          "base_uri": "https://localhost:8080/"
        },
        "id": "3y3Ss5hk5mfs",
        "outputId": "26a80b53-4849-4582-f78f-e0fd0f7f9544"
      },
      "outputs": [
        {
          "name": "stdout",
          "output_type": "stream",
          "text": [
            "[[6 7 1 7]\n",
            " [5 8 1 9]\n",
            " [4 4 5 6]]\n",
            "Maximo  [6 8 5 9]\n",
            "Maximo  [7 9 6]\n"
          ]
        }
      ],
      "source": [
        "print(c)\n",
        "print(\"Maximo \", c.max(axis=0))\n",
        "print(\"Maximo \", c.max(axis=1))"
      ]
    },
    {
      "cell_type": "code",
      "execution_count": 30,
      "metadata": {
        "id": "4o3vABLj5xhh"
      },
      "outputs": [],
      "source": [
        "import matplotlib.pyplot as plt"
      ]
    },
    {
      "cell_type": "code",
      "execution_count": 31,
      "metadata": {
        "colab": {
          "base_uri": "https://localhost:8080/"
        },
        "id": "Z_hLYHTJ5n7w",
        "outputId": "40ab744f-8646-467e-8860-f592836a8589"
      },
      "outputs": [
        {
          "name": "stdout",
          "output_type": "stream",
          "text": [
            "[6.11310697 6.83281106 6.99304699 ... 8.60513333 9.82164015 3.6931283 ]\n",
            "[ -4.92023387   4.02247675   4.5964861  ... -10.30267443   6.04853732\n",
            "  -7.74154186]\n"
          ]
        }
      ],
      "source": [
        "u = np.random.uniform(0,10,10000)\n",
        "n = np.random.normal(0,10,10000)\n",
        "print(u)\n",
        "print(n)"
      ]
    },
    {
      "cell_type": "code",
      "execution_count": 32,
      "metadata": {
        "colab": {
          "base_uri": "https://localhost:8080/",
          "height": 336
        },
        "id": "5ARIjS605svs",
        "outputId": "85e26aeb-7036-4112-cbe4-f2f1fb0cf5c7"
      },
      "outputs": [
        {
          "data": {
            "image/png": "[encoded data removed]",
            "text/plain": [
              "<Figure size 864x360 with 2 Axes>"
            ]
          },
          "metadata": {
            "needs_background": "light"
          },
          "output_type": "display_data"
        }
      ],
      "source": [
        "plt.figure(figsize=(12,5))\n",
        "\n",
        "plt.subplot(1,2,1)\n",
        "plt.hist(u, bins=50)\n",
        "plt.title(\"Distribución uniforme\")\n",
        "\n",
        "plt.subplot(1,2,2)\n",
        "plt.hist(n, bins=50)\n",
        "plt.title(\"Distribución normal\")\n",
        "\n",
        "plt.show()"
      ]
    }
  ],
  "metadata": {
    "colab": {
      "provenance": []
    },
    "kernelspec": {
      "display_name": "Python 3.10.6 64-bit",
      "language": "python",
      "name": "python3"
    },
    "language_info": {
      "codemirror_mode": {
        "name": "ipython",
        "version": 3
      },
      "file_extension": ".py",
      "mimetype": "text/x-python",
      "name": "python",
      "nbconvert_exporter": "python",
      "pygments_lexer": "ipython3",
      "version": "3.10.6"
    },
    "vscode": {
      "interpreter": {
        "hash": "1877db499a7b4ab35f7833c424fb50f3ec775240da6b00a811e00449570fd16f"
      }
    }
  },
  "nbformat": 4,
  "nbformat_minor": 0
}
