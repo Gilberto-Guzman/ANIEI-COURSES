{
  "cells": [
    {
      "cell_type": "code",
      "execution_count": 48,
      "metadata": {
        "id": "XDyawOsmcG3y"
      },
      "outputs": [],
      "source": [
        "import pandas as pd"
      ]
    },
    {
      "cell_type": "code",
      "execution_count": 49,
      "metadata": {
        "id": "jg9zS0rWjPlk"
      },
      "outputs": [],
      "source": [
        "d = {'py101':[10,5,33,45,25,22],\n",
        "    'py111':[0,15,21,30,31,111],\n",
        "    'py121':[15,5,1,10,42,21],\n",
        "    'py301':[20,35,3,15,0,0],}"
      ]
    },
    {
      "cell_type": "code",
      "execution_count": 50,
      "metadata": {
        "colab": {
          "base_uri": "https://localhost:8080/",
          "height": 238
        },
        "id": "3If4ogB6jmlw",
        "outputId": "8599faff-f6ad-4cde-ccb0-7fb8452e12f5"
      },
      "outputs": [
        {
          "data": {
            "text/html": [
              "<div>\n",
              "<style scoped>\n",
              "    .dataframe tbody tr th:only-of-type {\n",
              "        vertical-align: middle;\n",
              "    }\n",
              "\n",
              "    .dataframe tbody tr th {\n",
              "        vertical-align: top;\n",
              "    }\n",
              "\n",
              "    .dataframe thead th {\n",
              "        text-align: right;\n",
              "    }\n",
              "</style>\n",
              "<table border=\"1\" class=\"dataframe\">\n",
              "  <thead>\n",
              "    <tr style=\"text-align: right;\">\n",
              "      <th></th>\n",
              "      <th>py101</th>\n",
              "      <th>py111</th>\n",
              "      <th>py121</th>\n",
              "      <th>py301</th>\n",
              "    </tr>\n",
              "  </thead>\n",
              "  <tbody>\n",
              "    <tr>\n",
              "      <th>0</th>\n",
              "      <td>10</td>\n",
              "      <td>0</td>\n",
              "      <td>15</td>\n",
              "      <td>20</td>\n",
              "    </tr>\n",
              "    <tr>\n",
              "      <th>1</th>\n",
              "      <td>5</td>\n",
              "      <td>15</td>\n",
              "      <td>5</td>\n",
              "      <td>35</td>\n",
              "    </tr>\n",
              "    <tr>\n",
              "      <th>2</th>\n",
              "      <td>33</td>\n",
              "      <td>21</td>\n",
              "      <td>1</td>\n",
              "      <td>3</td>\n",
              "    </tr>\n",
              "    <tr>\n",
              "      <th>3</th>\n",
              "      <td>45</td>\n",
              "      <td>30</td>\n",
              "      <td>10</td>\n",
              "      <td>15</td>\n",
              "    </tr>\n",
              "    <tr>\n",
              "      <th>4</th>\n",
              "      <td>25</td>\n",
              "      <td>31</td>\n",
              "      <td>42</td>\n",
              "      <td>0</td>\n",
              "    </tr>\n",
              "    <tr>\n",
              "      <th>5</th>\n",
              "      <td>22</td>\n",
              "      <td>111</td>\n",
              "      <td>21</td>\n",
              "      <td>0</td>\n",
              "    </tr>\n",
              "  </tbody>\n",
              "</table>\n",
              "</div>"
            ],
            "text/plain": [
              "   py101  py111  py121  py301\n",
              "0     10      0     15     20\n",
              "1      5     15      5     35\n",
              "2     33     21      1      3\n",
              "3     45     30     10     15\n",
              "4     25     31     42      0\n",
              "5     22    111     21      0"
            ]
          },
          "execution_count": 50,
          "metadata": {},
          "output_type": "execute_result"
        }
      ],
      "source": [
        "df = pd.DataFrame(data=d)\n",
        "df"
      ]
    },
    {
      "cell_type": "code",
      "execution_count": 51,
      "metadata": {
        "colab": {
          "base_uri": "https://localhost:8080/",
          "height": 238
        },
        "id": "0gz6ZMMlkDyr",
        "outputId": "f4d08bfd-c101-46a9-d9e5-ec6d89c7e67b"
      },
      "outputs": [
        {
          "data": {
            "text/html": [
              "<div>\n",
              "<style scoped>\n",
              "    .dataframe tbody tr th:only-of-type {\n",
              "        vertical-align: middle;\n",
              "    }\n",
              "\n",
              "    .dataframe tbody tr th {\n",
              "        vertical-align: top;\n",
              "    }\n",
              "\n",
              "    .dataframe thead th {\n",
              "        text-align: right;\n",
              "    }\n",
              "</style>\n",
              "<table border=\"1\" class=\"dataframe\">\n",
              "  <thead>\n",
              "    <tr style=\"text-align: right;\">\n",
              "      <th></th>\n",
              "      <th>py101</th>\n",
              "      <th>py111</th>\n",
              "      <th>py121</th>\n",
              "      <th>py301</th>\n",
              "    </tr>\n",
              "  </thead>\n",
              "  <tbody>\n",
              "    <tr>\n",
              "      <th>mesas</th>\n",
              "      <td>10</td>\n",
              "      <td>0</td>\n",
              "      <td>15</td>\n",
              "      <td>20</td>\n",
              "    </tr>\n",
              "    <tr>\n",
              "      <th>sillas</th>\n",
              "      <td>5</td>\n",
              "      <td>15</td>\n",
              "      <td>5</td>\n",
              "      <td>35</td>\n",
              "    </tr>\n",
              "    <tr>\n",
              "      <th>escritorios</th>\n",
              "      <td>33</td>\n",
              "      <td>21</td>\n",
              "      <td>1</td>\n",
              "      <td>3</td>\n",
              "    </tr>\n",
              "    <tr>\n",
              "      <th>bancos</th>\n",
              "      <td>45</td>\n",
              "      <td>30</td>\n",
              "      <td>10</td>\n",
              "      <td>15</td>\n",
              "    </tr>\n",
              "    <tr>\n",
              "      <th>sillones</th>\n",
              "      <td>25</td>\n",
              "      <td>31</td>\n",
              "      <td>42</td>\n",
              "      <td>0</td>\n",
              "    </tr>\n",
              "    <tr>\n",
              "      <th>puertas</th>\n",
              "      <td>22</td>\n",
              "      <td>111</td>\n",
              "      <td>21</td>\n",
              "      <td>0</td>\n",
              "    </tr>\n",
              "  </tbody>\n",
              "</table>\n",
              "</div>"
            ],
            "text/plain": [
              "             py101  py111  py121  py301\n",
              "mesas           10      0     15     20\n",
              "sillas           5     15      5     35\n",
              "escritorios     33     21      1      3\n",
              "bancos          45     30     10     15\n",
              "sillones        25     31     42      0\n",
              "puertas         22    111     21      0"
            ]
          },
          "execution_count": 51,
          "metadata": {},
          "output_type": "execute_result"
        }
      ],
      "source": [
        "meses = ['ene', 'feb', 'mar', 'abr']\n",
        "items = ('mesas', 'sillas', 'escritorios', 'bancos', 'sillones', 'puertas')\n",
        "df = pd.DataFrame(data=d, index=items)\n",
        "df"
      ]
    },
    {
      "cell_type": "code",
      "execution_count": 52,
      "metadata": {
        "colab": {
          "base_uri": "https://localhost:8080/"
        },
        "id": "WWqj5xvHmgPX",
        "outputId": "f48f4241-6ae1-4075-af5d-19fcaef8fa5c"
      },
      "outputs": [
        {
          "data": {
            "text/plain": [
              "Index(['py101', 'py111', 'py121', 'py301'], dtype='object')"
            ]
          },
          "execution_count": 52,
          "metadata": {},
          "output_type": "execute_result"
        }
      ],
      "source": [
        "df.columns"
      ]
    },
    {
      "cell_type": "code",
      "execution_count": 53,
      "metadata": {
        "colab": {
          "base_uri": "https://localhost:8080/",
          "height": 238
        },
        "id": "CYBFMjP-mkiE",
        "outputId": "26bb60e5-f779-4d99-a4e0-98c517070fe4"
      },
      "outputs": [
        {
          "data": {
            "text/html": [
              "<div>\n",
              "<style scoped>\n",
              "    .dataframe tbody tr th:only-of-type {\n",
              "        vertical-align: middle;\n",
              "    }\n",
              "\n",
              "    .dataframe tbody tr th {\n",
              "        vertical-align: top;\n",
              "    }\n",
              "\n",
              "    .dataframe thead th {\n",
              "        text-align: right;\n",
              "    }\n",
              "</style>\n",
              "<table border=\"1\" class=\"dataframe\">\n",
              "  <thead>\n",
              "    <tr style=\"text-align: right;\">\n",
              "      <th></th>\n",
              "      <th>ene</th>\n",
              "      <th>feb</th>\n",
              "      <th>mar</th>\n",
              "      <th>abr</th>\n",
              "    </tr>\n",
              "  </thead>\n",
              "  <tbody>\n",
              "    <tr>\n",
              "      <th>mesas</th>\n",
              "      <td>10</td>\n",
              "      <td>0</td>\n",
              "      <td>15</td>\n",
              "      <td>20</td>\n",
              "    </tr>\n",
              "    <tr>\n",
              "      <th>sillas</th>\n",
              "      <td>5</td>\n",
              "      <td>15</td>\n",
              "      <td>5</td>\n",
              "      <td>35</td>\n",
              "    </tr>\n",
              "    <tr>\n",
              "      <th>escritorios</th>\n",
              "      <td>33</td>\n",
              "      <td>21</td>\n",
              "      <td>1</td>\n",
              "      <td>3</td>\n",
              "    </tr>\n",
              "    <tr>\n",
              "      <th>bancos</th>\n",
              "      <td>45</td>\n",
              "      <td>30</td>\n",
              "      <td>10</td>\n",
              "      <td>15</td>\n",
              "    </tr>\n",
              "    <tr>\n",
              "      <th>sillones</th>\n",
              "      <td>25</td>\n",
              "      <td>31</td>\n",
              "      <td>42</td>\n",
              "      <td>0</td>\n",
              "    </tr>\n",
              "    <tr>\n",
              "      <th>puertas</th>\n",
              "      <td>22</td>\n",
              "      <td>111</td>\n",
              "      <td>21</td>\n",
              "      <td>0</td>\n",
              "    </tr>\n",
              "  </tbody>\n",
              "</table>\n",
              "</div>"
            ],
            "text/plain": [
              "             ene  feb  mar  abr\n",
              "mesas         10    0   15   20\n",
              "sillas         5   15    5   35\n",
              "escritorios   33   21    1    3\n",
              "bancos        45   30   10   15\n",
              "sillones      25   31   42    0\n",
              "puertas       22  111   21    0"
            ]
          },
          "execution_count": 53,
          "metadata": {},
          "output_type": "execute_result"
        }
      ],
      "source": [
        "df.columns = meses\n",
        "df"
      ]
    },
    {
      "cell_type": "code",
      "execution_count": 54,
      "metadata": {
        "colab": {
          "base_uri": "https://localhost:8080/"
        },
        "id": "ReGFM2mim8eL",
        "outputId": "6ea852cc-4636-4d1c-cf47-79d9b7b69796"
      },
      "outputs": [
        {
          "data": {
            "text/plain": [
              "Index(['mesas', 'sillas', 'escritorios', 'bancos', 'sillones', 'puertas'], dtype='object')"
            ]
          },
          "execution_count": 54,
          "metadata": {},
          "output_type": "execute_result"
        }
      ],
      "source": [
        "df.index"
      ]
    },
    {
      "cell_type": "code",
      "execution_count": 55,
      "metadata": {
        "colab": {
          "base_uri": "https://localhost:8080/",
          "height": 238
        },
        "id": "T5VzryBXm_rZ",
        "outputId": "acbf4aec-3166-4b2e-bfa6-1c5b433afc3c"
      },
      "outputs": [
        {
          "data": {
            "text/html": [
              "<div>\n",
              "<style scoped>\n",
              "    .dataframe tbody tr th:only-of-type {\n",
              "        vertical-align: middle;\n",
              "    }\n",
              "\n",
              "    .dataframe tbody tr th {\n",
              "        vertical-align: top;\n",
              "    }\n",
              "\n",
              "    .dataframe thead th {\n",
              "        text-align: right;\n",
              "    }\n",
              "</style>\n",
              "<table border=\"1\" class=\"dataframe\">\n",
              "  <thead>\n",
              "    <tr style=\"text-align: right;\">\n",
              "      <th></th>\n",
              "      <th>feb</th>\n",
              "      <th>mar</th>\n",
              "      <th>abr</th>\n",
              "    </tr>\n",
              "  </thead>\n",
              "  <tbody>\n",
              "    <tr>\n",
              "      <th>mesas</th>\n",
              "      <td>0</td>\n",
              "      <td>15</td>\n",
              "      <td>20</td>\n",
              "    </tr>\n",
              "    <tr>\n",
              "      <th>sillas</th>\n",
              "      <td>15</td>\n",
              "      <td>5</td>\n",
              "      <td>35</td>\n",
              "    </tr>\n",
              "    <tr>\n",
              "      <th>escritorios</th>\n",
              "      <td>21</td>\n",
              "      <td>1</td>\n",
              "      <td>3</td>\n",
              "    </tr>\n",
              "    <tr>\n",
              "      <th>bancos</th>\n",
              "      <td>30</td>\n",
              "      <td>10</td>\n",
              "      <td>15</td>\n",
              "    </tr>\n",
              "    <tr>\n",
              "      <th>sillones</th>\n",
              "      <td>31</td>\n",
              "      <td>42</td>\n",
              "      <td>0</td>\n",
              "    </tr>\n",
              "    <tr>\n",
              "      <th>puertas</th>\n",
              "      <td>111</td>\n",
              "      <td>21</td>\n",
              "      <td>0</td>\n",
              "    </tr>\n",
              "  </tbody>\n",
              "</table>\n",
              "</div>"
            ],
            "text/plain": [
              "             feb  mar  abr\n",
              "mesas          0   15   20\n",
              "sillas        15    5   35\n",
              "escritorios   21    1    3\n",
              "bancos        30   10   15\n",
              "sillones      31   42    0\n",
              "puertas      111   21    0"
            ]
          },
          "execution_count": 55,
          "metadata": {},
          "output_type": "execute_result"
        }
      ],
      "source": [
        "#df['mar']\n",
        "df[['feb','mar','abr']]"
      ]
    },
    {
      "cell_type": "code",
      "execution_count": 56,
      "metadata": {
        "colab": {
          "base_uri": "https://localhost:8080/",
          "height": 143
        },
        "id": "yhbSJfzOns_H",
        "outputId": "0b1a6ff2-45ad-4319-83a0-481a5941059a"
      },
      "outputs": [
        {
          "data": {
            "text/html": [
              "<div>\n",
              "<style scoped>\n",
              "    .dataframe tbody tr th:only-of-type {\n",
              "        vertical-align: middle;\n",
              "    }\n",
              "\n",
              "    .dataframe tbody tr th {\n",
              "        vertical-align: top;\n",
              "    }\n",
              "\n",
              "    .dataframe thead th {\n",
              "        text-align: right;\n",
              "    }\n",
              "</style>\n",
              "<table border=\"1\" class=\"dataframe\">\n",
              "  <thead>\n",
              "    <tr style=\"text-align: right;\">\n",
              "      <th></th>\n",
              "      <th>ene</th>\n",
              "      <th>feb</th>\n",
              "      <th>mar</th>\n",
              "      <th>abr</th>\n",
              "    </tr>\n",
              "  </thead>\n",
              "  <tbody>\n",
              "    <tr>\n",
              "      <th>sillas</th>\n",
              "      <td>5</td>\n",
              "      <td>15</td>\n",
              "      <td>5</td>\n",
              "      <td>35</td>\n",
              "    </tr>\n",
              "    <tr>\n",
              "      <th>escritorios</th>\n",
              "      <td>33</td>\n",
              "      <td>21</td>\n",
              "      <td>1</td>\n",
              "      <td>3</td>\n",
              "    </tr>\n",
              "    <tr>\n",
              "      <th>bancos</th>\n",
              "      <td>45</td>\n",
              "      <td>30</td>\n",
              "      <td>10</td>\n",
              "      <td>15</td>\n",
              "    </tr>\n",
              "  </tbody>\n",
              "</table>\n",
              "</div>"
            ],
            "text/plain": [
              "             ene  feb  mar  abr\n",
              "sillas         5   15    5   35\n",
              "escritorios   33   21    1    3\n",
              "bancos        45   30   10   15"
            ]
          },
          "execution_count": 56,
          "metadata": {},
          "output_type": "execute_result"
        }
      ],
      "source": [
        "df['sillas':'bancos']"
      ]
    },
    {
      "cell_type": "code",
      "execution_count": 57,
      "metadata": {
        "colab": {
          "base_uri": "https://localhost:8080/",
          "height": 143
        },
        "id": "X-QjD249n80u",
        "outputId": "edcb3942-070f-4758-c38d-731f87a4c166"
      },
      "outputs": [
        {
          "data": {
            "text/html": [
              "<div>\n",
              "<style scoped>\n",
              "    .dataframe tbody tr th:only-of-type {\n",
              "        vertical-align: middle;\n",
              "    }\n",
              "\n",
              "    .dataframe tbody tr th {\n",
              "        vertical-align: top;\n",
              "    }\n",
              "\n",
              "    .dataframe thead th {\n",
              "        text-align: right;\n",
              "    }\n",
              "</style>\n",
              "<table border=\"1\" class=\"dataframe\">\n",
              "  <thead>\n",
              "    <tr style=\"text-align: right;\">\n",
              "      <th></th>\n",
              "      <th>feb</th>\n",
              "      <th>mar</th>\n",
              "      <th>abr</th>\n",
              "    </tr>\n",
              "  </thead>\n",
              "  <tbody>\n",
              "    <tr>\n",
              "      <th>sillas</th>\n",
              "      <td>15</td>\n",
              "      <td>5</td>\n",
              "      <td>35</td>\n",
              "    </tr>\n",
              "    <tr>\n",
              "      <th>escritorios</th>\n",
              "      <td>21</td>\n",
              "      <td>1</td>\n",
              "      <td>3</td>\n",
              "    </tr>\n",
              "    <tr>\n",
              "      <th>bancos</th>\n",
              "      <td>30</td>\n",
              "      <td>10</td>\n",
              "      <td>15</td>\n",
              "    </tr>\n",
              "  </tbody>\n",
              "</table>\n",
              "</div>"
            ],
            "text/plain": [
              "             feb  mar  abr\n",
              "sillas        15    5   35\n",
              "escritorios   21    1    3\n",
              "bancos        30   10   15"
            ]
          },
          "execution_count": 57,
          "metadata": {},
          "output_type": "execute_result"
        }
      ],
      "source": [
        "df[['feb','mar','abr']]['sillas':'bancos']"
      ]
    },
    {
      "cell_type": "code",
      "execution_count": 58,
      "metadata": {
        "colab": {
          "base_uri": "https://localhost:8080/"
        },
        "id": "n1Uv_n7hoTTP",
        "outputId": "3279f2fa-43bd-4e1c-b67b-84924ea2e5b8"
      },
      "outputs": [
        {
          "data": {
            "text/plain": [
              "<bound method DataFrame.info of              ene  feb  mar  abr\n",
              "mesas         10    0   15   20\n",
              "sillas         5   15    5   35\n",
              "escritorios   33   21    1    3\n",
              "bancos        45   30   10   15\n",
              "sillones      25   31   42    0\n",
              "puertas       22  111   21    0>"
            ]
          },
          "execution_count": 58,
          "metadata": {},
          "output_type": "execute_result"
        }
      ],
      "source": [
        "df.info"
      ]
    },
    {
      "cell_type": "code",
      "execution_count": 59,
      "metadata": {
        "colab": {
          "base_uri": "https://localhost:8080/",
          "height": 300
        },
        "id": "L8wHAkDloiMR",
        "outputId": "9a5b0712-e390-41bd-851d-fc460fa308ca"
      },
      "outputs": [
        {
          "data": {
            "text/html": [
              "<div>\n",
              "<style scoped>\n",
              "    .dataframe tbody tr th:only-of-type {\n",
              "        vertical-align: middle;\n",
              "    }\n",
              "\n",
              "    .dataframe tbody tr th {\n",
              "        vertical-align: top;\n",
              "    }\n",
              "\n",
              "    .dataframe thead th {\n",
              "        text-align: right;\n",
              "    }\n",
              "</style>\n",
              "<table border=\"1\" class=\"dataframe\">\n",
              "  <thead>\n",
              "    <tr style=\"text-align: right;\">\n",
              "      <th></th>\n",
              "      <th>ene</th>\n",
              "      <th>feb</th>\n",
              "      <th>mar</th>\n",
              "      <th>abr</th>\n",
              "    </tr>\n",
              "  </thead>\n",
              "  <tbody>\n",
              "    <tr>\n",
              "      <th>count</th>\n",
              "      <td>6.000000</td>\n",
              "      <td>6.000000</td>\n",
              "      <td>6.000000</td>\n",
              "      <td>6.000000</td>\n",
              "    </tr>\n",
              "    <tr>\n",
              "      <th>mean</th>\n",
              "      <td>23.333333</td>\n",
              "      <td>34.666667</td>\n",
              "      <td>15.666667</td>\n",
              "      <td>12.166667</td>\n",
              "    </tr>\n",
              "    <tr>\n",
              "      <th>std</th>\n",
              "      <td>14.706008</td>\n",
              "      <td>39.082818</td>\n",
              "      <td>14.719601</td>\n",
              "      <td>13.934370</td>\n",
              "    </tr>\n",
              "    <tr>\n",
              "      <th>min</th>\n",
              "      <td>5.000000</td>\n",
              "      <td>0.000000</td>\n",
              "      <td>1.000000</td>\n",
              "      <td>0.000000</td>\n",
              "    </tr>\n",
              "    <tr>\n",
              "      <th>25%</th>\n",
              "      <td>13.000000</td>\n",
              "      <td>16.500000</td>\n",
              "      <td>6.250000</td>\n",
              "      <td>0.750000</td>\n",
              "    </tr>\n",
              "    <tr>\n",
              "      <th>50%</th>\n",
              "      <td>23.500000</td>\n",
              "      <td>25.500000</td>\n",
              "      <td>12.500000</td>\n",
              "      <td>9.000000</td>\n",
              "    </tr>\n",
              "    <tr>\n",
              "      <th>75%</th>\n",
              "      <td>31.000000</td>\n",
              "      <td>30.750000</td>\n",
              "      <td>19.500000</td>\n",
              "      <td>18.750000</td>\n",
              "    </tr>\n",
              "    <tr>\n",
              "      <th>max</th>\n",
              "      <td>45.000000</td>\n",
              "      <td>111.000000</td>\n",
              "      <td>42.000000</td>\n",
              "      <td>35.000000</td>\n",
              "    </tr>\n",
              "  </tbody>\n",
              "</table>\n",
              "</div>"
            ],
            "text/plain": [
              "             ene         feb        mar        abr\n",
              "count   6.000000    6.000000   6.000000   6.000000\n",
              "mean   23.333333   34.666667  15.666667  12.166667\n",
              "std    14.706008   39.082818  14.719601  13.934370\n",
              "min     5.000000    0.000000   1.000000   0.000000\n",
              "25%    13.000000   16.500000   6.250000   0.750000\n",
              "50%    23.500000   25.500000  12.500000   9.000000\n",
              "75%    31.000000   30.750000  19.500000  18.750000\n",
              "max    45.000000  111.000000  42.000000  35.000000"
            ]
          },
          "execution_count": 59,
          "metadata": {},
          "output_type": "execute_result"
        }
      ],
      "source": [
        "df.describe()"
      ]
    },
    {
      "cell_type": "code",
      "execution_count": 60,
      "metadata": {
        "colab": {
          "base_uri": "https://localhost:8080/"
        },
        "id": "5hYc2I54otvM",
        "outputId": "c66b6397-acf0-4aed-d4a0-295f91661f0f"
      },
      "outputs": [
        {
          "data": {
            "text/plain": [
              "count      6.000000\n",
              "mean      34.666667\n",
              "std       39.082818\n",
              "min        0.000000\n",
              "25%       16.500000\n",
              "50%       25.500000\n",
              "75%       30.750000\n",
              "max      111.000000\n",
              "Name: feb, dtype: float64"
            ]
          },
          "execution_count": 60,
          "metadata": {},
          "output_type": "execute_result"
        }
      ],
      "source": [
        "df['feb'].describe()"
      ]
    },
    {
      "cell_type": "code",
      "execution_count": 61,
      "metadata": {
        "colab": {
          "base_uri": "https://localhost:8080/"
        },
        "id": "5Bj_204zpAS-",
        "outputId": "56bb81e9-e2c0-498a-96ed-16667d01962c"
      },
      "outputs": [
        {
          "name": "stdout",
          "output_type": "stream",
          "text": [
            "Promedio Feb  34.666666666666664\n",
            "Max Feb  111\n"
          ]
        }
      ],
      "source": [
        "print(\"Promedio Feb \",df['feb'].mean())\n",
        "print(\"Max Feb \", df['feb'].max())"
      ]
    },
    {
      "cell_type": "code",
      "execution_count": 62,
      "metadata": {
        "colab": {
          "base_uri": "https://localhost:8080/"
        },
        "id": "dmDTzsJnplxx",
        "outputId": "58b8dce7-770c-4daf-a44c-a13ec3666f36"
      },
      "outputs": [
        {
          "data": {
            "text/plain": [
              "mesas            0\n",
              "sillas          15\n",
              "escritorios     21\n",
              "bancos          30\n",
              "sillones        31\n",
              "puertas        111\n",
              "Name: feb, dtype: int64"
            ]
          },
          "execution_count": 62,
          "metadata": {},
          "output_type": "execute_result"
        }
      ],
      "source": [
        "df['feb']"
      ]
    },
    {
      "cell_type": "code",
      "execution_count": 63,
      "metadata": {
        "colab": {
          "base_uri": "https://localhost:8080/",
          "height": 238
        },
        "id": "jVZrsFgVpavw",
        "outputId": "5f73a16c-cf6a-4fdd-e3e4-ec4302c725f6"
      },
      "outputs": [
        {
          "data": {
            "text/html": [
              "<div>\n",
              "<style scoped>\n",
              "    .dataframe tbody tr th:only-of-type {\n",
              "        vertical-align: middle;\n",
              "    }\n",
              "\n",
              "    .dataframe tbody tr th {\n",
              "        vertical-align: top;\n",
              "    }\n",
              "\n",
              "    .dataframe thead th {\n",
              "        text-align: right;\n",
              "    }\n",
              "</style>\n",
              "<table border=\"1\" class=\"dataframe\">\n",
              "  <thead>\n",
              "    <tr style=\"text-align: right;\">\n",
              "      <th></th>\n",
              "      <th>ene</th>\n",
              "      <th>feb</th>\n",
              "      <th>mar</th>\n",
              "      <th>abr</th>\n",
              "      <th>feb_iva</th>\n",
              "    </tr>\n",
              "  </thead>\n",
              "  <tbody>\n",
              "    <tr>\n",
              "      <th>mesas</th>\n",
              "      <td>10</td>\n",
              "      <td>0</td>\n",
              "      <td>15</td>\n",
              "      <td>20</td>\n",
              "      <td>0.00</td>\n",
              "    </tr>\n",
              "    <tr>\n",
              "      <th>sillas</th>\n",
              "      <td>5</td>\n",
              "      <td>15</td>\n",
              "      <td>5</td>\n",
              "      <td>35</td>\n",
              "      <td>17.40</td>\n",
              "    </tr>\n",
              "    <tr>\n",
              "      <th>escritorios</th>\n",
              "      <td>33</td>\n",
              "      <td>21</td>\n",
              "      <td>1</td>\n",
              "      <td>3</td>\n",
              "      <td>24.36</td>\n",
              "    </tr>\n",
              "    <tr>\n",
              "      <th>bancos</th>\n",
              "      <td>45</td>\n",
              "      <td>30</td>\n",
              "      <td>10</td>\n",
              "      <td>15</td>\n",
              "      <td>34.80</td>\n",
              "    </tr>\n",
              "    <tr>\n",
              "      <th>sillones</th>\n",
              "      <td>25</td>\n",
              "      <td>31</td>\n",
              "      <td>42</td>\n",
              "      <td>0</td>\n",
              "      <td>35.96</td>\n",
              "    </tr>\n",
              "    <tr>\n",
              "      <th>puertas</th>\n",
              "      <td>22</td>\n",
              "      <td>111</td>\n",
              "      <td>21</td>\n",
              "      <td>0</td>\n",
              "      <td>128.76</td>\n",
              "    </tr>\n",
              "  </tbody>\n",
              "</table>\n",
              "</div>"
            ],
            "text/plain": [
              "             ene  feb  mar  abr  feb_iva\n",
              "mesas         10    0   15   20     0.00\n",
              "sillas         5   15    5   35    17.40\n",
              "escritorios   33   21    1    3    24.36\n",
              "bancos        45   30   10   15    34.80\n",
              "sillones      25   31   42    0    35.96\n",
              "puertas       22  111   21    0   128.76"
            ]
          },
          "execution_count": 63,
          "metadata": {},
          "output_type": "execute_result"
        }
      ],
      "source": [
        "df['feb_iva'] = df['feb'] * 1.16\n",
        "df\n",
        "#df['feb'] * 1.16"
      ]
    },
    {
      "cell_type": "code",
      "execution_count": 64,
      "metadata": {
        "colab": {
          "base_uri": "https://localhost:8080/"
        },
        "id": "C8HKuhmRqJj7",
        "outputId": "b755a569-639e-41c1-e770-47b520ad9b33"
      },
      "outputs": [
        {
          "data": {
            "text/plain": [
              "21"
            ]
          },
          "execution_count": 64,
          "metadata": {},
          "output_type": "execute_result"
        }
      ],
      "source": [
        "df['feb']['escritorios']"
      ]
    },
    {
      "cell_type": "code",
      "execution_count": 59,
      "metadata": {
        "colab": {
          "base_uri": "https://localhost:8080/"
        },
        "id": "0X17m4xDr77Y",
        "outputId": "6ca92c57-66ff-4229-8a2f-93852c41ebfb"
      },
      "outputs": [
        {
          "name": "stdout",
          "output_type": "stream",
          "text": [
            "/content\n"
          ]
        }
      ],
      "source": [
        "! pwd"
      ]
    },
    {
      "cell_type": "code",
      "execution_count": null,
      "metadata": {
        "colab": {
          "base_uri": "https://localhost:8080/"
        },
        "id": "TiyfRZSnsE5n",
        "outputId": "bfe4dfbe-2492-4fbe-89e4-b8a610c4ec31"
      },
      "outputs": [
        {
          "name": "stdout",
          "output_type": "stream",
          "text": [
            "total 12\n",
            "drwxr-xr-x 2 root root 4096 Oct 26 14:25 .\n",
            "drwxr-xr-x 1 root root 4096 Oct 26 14:25 ..\n",
            "-rw-r--r-- 1 root root  182 Oct 26 14:25 clientes.csv\n"
          ]
        }
      ],
      "source": [
        "! ls -la datos"
      ]
    },
    {
      "cell_type": "code",
      "execution_count": null,
      "metadata": {
        "colab": {
          "base_uri": "https://localhost:8080/"
        },
        "id": "XqCHtIuEsNnP",
        "outputId": "d098bf91-a674-492c-f589-dbe2c5a83bf7"
      },
      "outputs": [
        {
          "name": "stdout",
          "output_type": "stream",
          "text": [
            "ident,nombre,primer_apellido,suc_origen\n",
            "19232,Adriana,Sánchez,CDMX01\n",
            "19233,Marcos,García,CDMX02\n",
            "19234,Rubén,Rincón,CDMX02\n",
            "19235,Samuel,Oliva,CDMX01\n",
            "19236,Martha,Martínez,CDMX03\n"
          ]
        }
      ],
      "source": [
        "! cat datos/clientes.csv"
      ]
    },
    {
      "cell_type": "code",
      "execution_count": 65,
      "metadata": {
        "colab": {
          "base_uri": "https://localhost:8080/",
          "height": 206
        },
        "id": "urVIfECfswAF",
        "outputId": "d87a1d35-ee91-4299-d4a9-2896d70ee9f7"
      },
      "outputs": [
        {
          "data": {
            "text/html": [
              "<div>\n",
              "<style scoped>\n",
              "    .dataframe tbody tr th:only-of-type {\n",
              "        vertical-align: middle;\n",
              "    }\n",
              "\n",
              "    .dataframe tbody tr th {\n",
              "        vertical-align: top;\n",
              "    }\n",
              "\n",
              "    .dataframe thead th {\n",
              "        text-align: right;\n",
              "    }\n",
              "</style>\n",
              "<table border=\"1\" class=\"dataframe\">\n",
              "  <thead>\n",
              "    <tr style=\"text-align: right;\">\n",
              "      <th></th>\n",
              "      <th>ident</th>\n",
              "      <th>nombre</th>\n",
              "      <th>primer_apellido</th>\n",
              "      <th>suc_origen</th>\n",
              "    </tr>\n",
              "  </thead>\n",
              "  <tbody>\n",
              "    <tr>\n",
              "      <th>0</th>\n",
              "      <td>19232</td>\n",
              "      <td>Adriana</td>\n",
              "      <td>Sánchez</td>\n",
              "      <td>CDMX01</td>\n",
              "    </tr>\n",
              "    <tr>\n",
              "      <th>1</th>\n",
              "      <td>19233</td>\n",
              "      <td>Marcos</td>\n",
              "      <td>García</td>\n",
              "      <td>CDMX02</td>\n",
              "    </tr>\n",
              "    <tr>\n",
              "      <th>2</th>\n",
              "      <td>19234</td>\n",
              "      <td>Rubén</td>\n",
              "      <td>Rincón</td>\n",
              "      <td>CDMX02</td>\n",
              "    </tr>\n",
              "    <tr>\n",
              "      <th>3</th>\n",
              "      <td>19235</td>\n",
              "      <td>Samuel</td>\n",
              "      <td>Oliva</td>\n",
              "      <td>CDMX01</td>\n",
              "    </tr>\n",
              "    <tr>\n",
              "      <th>4</th>\n",
              "      <td>19236</td>\n",
              "      <td>Martha</td>\n",
              "      <td>Martínez</td>\n",
              "      <td>CDMX03</td>\n",
              "    </tr>\n",
              "  </tbody>\n",
              "</table>\n",
              "</div>"
            ],
            "text/plain": [
              "   ident   nombre primer_apellido suc_origen\n",
              "0  19232  Adriana         Sánchez     CDMX01\n",
              "1  19233   Marcos          García     CDMX02\n",
              "2  19234    Rubén          Rincón     CDMX02\n",
              "3  19235   Samuel           Oliva     CDMX01\n",
              "4  19236   Martha        Martínez     CDMX03"
            ]
          },
          "execution_count": 65,
          "metadata": {},
          "output_type": "execute_result"
        }
      ],
      "source": [
        "#Leer csv\n",
        "df_clientes = pd.read_csv('datos/clientes.csv')\n",
        "df_clientes"
      ]
    },
    {
      "cell_type": "code",
      "execution_count": 66,
      "metadata": {
        "colab": {
          "base_uri": "https://localhost:8080/"
        },
        "id": "i3IWGEuDtWui",
        "outputId": "e9ba6367-d291-45d1-c37a-817a4e4ccec6"
      },
      "outputs": [
        {
          "name": "stdout",
          "output_type": "stream",
          "text": [
            "<class 'pandas.core.frame.DataFrame'>\n",
            "RangeIndex: 5 entries, 0 to 4\n",
            "Data columns (total 4 columns):\n",
            " #   Column           Non-Null Count  Dtype \n",
            "---  ------           --------------  ----- \n",
            " 0   ident            5 non-null      int64 \n",
            " 1   nombre           5 non-null      object\n",
            " 2   primer_apellido  5 non-null      object\n",
            " 3   suc_origen       5 non-null      object\n",
            "dtypes: int64(1), object(3)\n",
            "memory usage: 288.0+ bytes\n"
          ]
        }
      ],
      "source": [
        "df_clientes.info()"
      ]
    },
    {
      "cell_type": "code",
      "execution_count": 67,
      "metadata": {
        "colab": {
          "base_uri": "https://localhost:8080/",
          "height": 300
        },
        "id": "sB1Fs4wltkWb",
        "outputId": "814fb55d-d5ea-4c75-a0ae-86c8d5431eef"
      },
      "outputs": [
        {
          "data": {
            "text/html": [
              "<div>\n",
              "<style scoped>\n",
              "    .dataframe tbody tr th:only-of-type {\n",
              "        vertical-align: middle;\n",
              "    }\n",
              "\n",
              "    .dataframe tbody tr th {\n",
              "        vertical-align: top;\n",
              "    }\n",
              "\n",
              "    .dataframe thead th {\n",
              "        text-align: right;\n",
              "    }\n",
              "</style>\n",
              "<table border=\"1\" class=\"dataframe\">\n",
              "  <thead>\n",
              "    <tr style=\"text-align: right;\">\n",
              "      <th></th>\n",
              "      <th>ident</th>\n",
              "    </tr>\n",
              "  </thead>\n",
              "  <tbody>\n",
              "    <tr>\n",
              "      <th>count</th>\n",
              "      <td>5.000000</td>\n",
              "    </tr>\n",
              "    <tr>\n",
              "      <th>mean</th>\n",
              "      <td>19234.000000</td>\n",
              "    </tr>\n",
              "    <tr>\n",
              "      <th>std</th>\n",
              "      <td>1.581139</td>\n",
              "    </tr>\n",
              "    <tr>\n",
              "      <th>min</th>\n",
              "      <td>19232.000000</td>\n",
              "    </tr>\n",
              "    <tr>\n",
              "      <th>25%</th>\n",
              "      <td>19233.000000</td>\n",
              "    </tr>\n",
              "    <tr>\n",
              "      <th>50%</th>\n",
              "      <td>19234.000000</td>\n",
              "    </tr>\n",
              "    <tr>\n",
              "      <th>75%</th>\n",
              "      <td>19235.000000</td>\n",
              "    </tr>\n",
              "    <tr>\n",
              "      <th>max</th>\n",
              "      <td>19236.000000</td>\n",
              "    </tr>\n",
              "  </tbody>\n",
              "</table>\n",
              "</div>"
            ],
            "text/plain": [
              "              ident\n",
              "count      5.000000\n",
              "mean   19234.000000\n",
              "std        1.581139\n",
              "min    19232.000000\n",
              "25%    19233.000000\n",
              "50%    19234.000000\n",
              "75%    19235.000000\n",
              "max    19236.000000"
            ]
          },
          "execution_count": 67,
          "metadata": {},
          "output_type": "execute_result"
        }
      ],
      "source": [
        "df_clientes.describe()"
      ]
    },
    {
      "cell_type": "code",
      "execution_count": null,
      "metadata": {
        "colab": {
          "base_uri": "https://localhost:8080/"
        },
        "id": "gknyVdG_tz3O",
        "outputId": "d3728010-4701-4fc6-e1bb-438e854fe68b"
      },
      "outputs": [
        {
          "name": "stdout",
          "output_type": "stream",
          "text": [
            "folio|sucursal|monto|fecha|cliente\n",
            "15234|CDMX01|1420.0|2019-03-11 17:24:00|19234\n",
            "15235|MTY01|1532.0|2019-03-24 14:46:00|19232\n",
            "15236|CDMX02|890.0|2019-03-25 17:58:00|19235\n",
            "15237|CDMX02|1300.0|2019-03-27 13:11:00|19233\n",
            "15238|MTY01|3121.47|2019-03-31 10:25:00|19236\n",
            "15239|GDL01|1100.5|2019-04-01 18:32:00|19237\n",
            "15240|CDMX02|12230.0|2019-04-03 11:43:00|19232\n",
            "15241|MTY01|230.85|2019-04-04 16:55:00|19233\n",
            "15242|GDL01|1569.0|2019-04-05 12:59:00|19232\n",
            "15243|GDL01|2569.0|2019-05-05 12:59:00|19232"
          ]
        }
      ],
      "source": [
        "! cat datos/facturas.csv"
      ]
    },
    {
      "cell_type": "code",
      "execution_count": 68,
      "metadata": {
        "colab": {
          "base_uri": "https://localhost:8080/",
          "height": 363
        },
        "id": "p56F59x5t6YZ",
        "outputId": "2b3a0450-c050-4d70-d852-96886bd0abf5"
      },
      "outputs": [
        {
          "data": {
            "text/html": [
              "<div>\n",
              "<style scoped>\n",
              "    .dataframe tbody tr th:only-of-type {\n",
              "        vertical-align: middle;\n",
              "    }\n",
              "\n",
              "    .dataframe tbody tr th {\n",
              "        vertical-align: top;\n",
              "    }\n",
              "\n",
              "    .dataframe thead th {\n",
              "        text-align: right;\n",
              "    }\n",
              "</style>\n",
              "<table border=\"1\" class=\"dataframe\">\n",
              "  <thead>\n",
              "    <tr style=\"text-align: right;\">\n",
              "      <th></th>\n",
              "      <th>folio</th>\n",
              "      <th>sucursal</th>\n",
              "      <th>monto</th>\n",
              "      <th>fecha</th>\n",
              "      <th>cliente</th>\n",
              "    </tr>\n",
              "  </thead>\n",
              "  <tbody>\n",
              "    <tr>\n",
              "      <th>0</th>\n",
              "      <td>15234</td>\n",
              "      <td>CDMX01</td>\n",
              "      <td>1420.00</td>\n",
              "      <td>2019-03-11 17:24:00</td>\n",
              "      <td>19234</td>\n",
              "    </tr>\n",
              "    <tr>\n",
              "      <th>1</th>\n",
              "      <td>15235</td>\n",
              "      <td>MTY01</td>\n",
              "      <td>1532.00</td>\n",
              "      <td>2019-03-24 14:46:00</td>\n",
              "      <td>19232</td>\n",
              "    </tr>\n",
              "    <tr>\n",
              "      <th>2</th>\n",
              "      <td>15236</td>\n",
              "      <td>CDMX02</td>\n",
              "      <td>890.00</td>\n",
              "      <td>2019-03-25 17:58:00</td>\n",
              "      <td>19235</td>\n",
              "    </tr>\n",
              "    <tr>\n",
              "      <th>3</th>\n",
              "      <td>15237</td>\n",
              "      <td>CDMX02</td>\n",
              "      <td>1300.00</td>\n",
              "      <td>2019-03-27 13:11:00</td>\n",
              "      <td>19233</td>\n",
              "    </tr>\n",
              "    <tr>\n",
              "      <th>4</th>\n",
              "      <td>15238</td>\n",
              "      <td>MTY01</td>\n",
              "      <td>3121.47</td>\n",
              "      <td>2019-03-31 10:25:00</td>\n",
              "      <td>19236</td>\n",
              "    </tr>\n",
              "    <tr>\n",
              "      <th>5</th>\n",
              "      <td>15239</td>\n",
              "      <td>GDL01</td>\n",
              "      <td>1100.50</td>\n",
              "      <td>2019-04-01 18:32:00</td>\n",
              "      <td>19237</td>\n",
              "    </tr>\n",
              "    <tr>\n",
              "      <th>6</th>\n",
              "      <td>15240</td>\n",
              "      <td>CDMX02</td>\n",
              "      <td>12230.00</td>\n",
              "      <td>2019-04-03 11:43:00</td>\n",
              "      <td>19232</td>\n",
              "    </tr>\n",
              "    <tr>\n",
              "      <th>7</th>\n",
              "      <td>15241</td>\n",
              "      <td>MTY01</td>\n",
              "      <td>230.85</td>\n",
              "      <td>2019-04-04 16:55:00</td>\n",
              "      <td>19233</td>\n",
              "    </tr>\n",
              "    <tr>\n",
              "      <th>8</th>\n",
              "      <td>15242</td>\n",
              "      <td>GDL01</td>\n",
              "      <td>1569.00</td>\n",
              "      <td>2019-04-05 12:59:00</td>\n",
              "      <td>19232</td>\n",
              "    </tr>\n",
              "    <tr>\n",
              "      <th>9</th>\n",
              "      <td>15243</td>\n",
              "      <td>GDL01</td>\n",
              "      <td>2569.00</td>\n",
              "      <td>2019-05-05 12:59:00</td>\n",
              "      <td>19232</td>\n",
              "    </tr>\n",
              "  </tbody>\n",
              "</table>\n",
              "</div>"
            ],
            "text/plain": [
              "   folio sucursal     monto                fecha  cliente\n",
              "0  15234   CDMX01   1420.00  2019-03-11 17:24:00    19234\n",
              "1  15235    MTY01   1532.00  2019-03-24 14:46:00    19232\n",
              "2  15236   CDMX02    890.00  2019-03-25 17:58:00    19235\n",
              "3  15237   CDMX02   1300.00  2019-03-27 13:11:00    19233\n",
              "4  15238    MTY01   3121.47  2019-03-31 10:25:00    19236\n",
              "5  15239    GDL01   1100.50  2019-04-01 18:32:00    19237\n",
              "6  15240   CDMX02  12230.00  2019-04-03 11:43:00    19232\n",
              "7  15241    MTY01    230.85  2019-04-04 16:55:00    19233\n",
              "8  15242    GDL01   1569.00  2019-04-05 12:59:00    19232\n",
              "9  15243    GDL01   2569.00  2019-05-05 12:59:00    19232"
            ]
          },
          "execution_count": 68,
          "metadata": {},
          "output_type": "execute_result"
        }
      ],
      "source": [
        "#Leer csv\n",
        "df_fact = pd.read_csv('datos/facturas.csv', sep='|')\n",
        "df_fact"
      ]
    },
    {
      "cell_type": "code",
      "execution_count": 69,
      "metadata": {
        "colab": {
          "base_uri": "https://localhost:8080/"
        },
        "id": "3uHUik28uSBz",
        "outputId": "e4b0dfcc-3241-4488-b7bd-bfea3458f9d9"
      },
      "outputs": [
        {
          "name": "stdout",
          "output_type": "stream",
          "text": [
            "<class 'pandas.core.frame.DataFrame'>\n",
            "RangeIndex: 10 entries, 0 to 9\n",
            "Data columns (total 5 columns):\n",
            " #   Column    Non-Null Count  Dtype  \n",
            "---  ------    --------------  -----  \n",
            " 0   folio     10 non-null     int64  \n",
            " 1   sucursal  10 non-null     object \n",
            " 2   monto     10 non-null     float64\n",
            " 3   fecha     10 non-null     object \n",
            " 4   cliente   10 non-null     int64  \n",
            "dtypes: float64(1), int64(2), object(2)\n",
            "memory usage: 528.0+ bytes\n"
          ]
        }
      ],
      "source": [
        "df_fact.info()"
      ]
    },
    {
      "cell_type": "code",
      "execution_count": 70,
      "metadata": {
        "colab": {
          "base_uri": "https://localhost:8080/"
        },
        "id": "5pVrk3bdvP18",
        "outputId": "9fdf177c-d552-405e-8f7c-4edb65f1d88e"
      },
      "outputs": [
        {
          "name": "stdout",
          "output_type": "stream",
          "text": [
            "<class 'pandas.core.frame.DataFrame'>\n",
            "RangeIndex: 30 entries, 0 to 29\n",
            "Data columns (total 4 columns):\n",
            " #   Column   Non-Null Count  Dtype \n",
            "---  ------   --------------  ----- \n",
            " 0   id       30 non-null     int64 \n",
            " 1   equipos  30 non-null     object\n",
            " 2   bateos   30 non-null     int64 \n",
            " 3   runs     30 non-null     int64 \n",
            "dtypes: int64(3), object(1)\n",
            "memory usage: 1.1+ KB\n"
          ]
        }
      ],
      "source": [
        "df_equipos = pd.read_csv('https://raw.githubusercontent.com/omarmendoza564/datos/main/datos/equipos.csv')\n",
        "df_equipos.info()"
      ]
    },
    {
      "cell_type": "code",
      "execution_count": 71,
      "metadata": {
        "colab": {
          "base_uri": "https://localhost:8080/",
          "height": 990
        },
        "id": "vIpYRHRtvv5r",
        "outputId": "0c25c0cb-3648-4a7e-8057-a84bdd20ff88"
      },
      "outputs": [
        {
          "data": {
            "text/html": [
              "<div>\n",
              "<style scoped>\n",
              "    .dataframe tbody tr th:only-of-type {\n",
              "        vertical-align: middle;\n",
              "    }\n",
              "\n",
              "    .dataframe tbody tr th {\n",
              "        vertical-align: top;\n",
              "    }\n",
              "\n",
              "    .dataframe thead th {\n",
              "        text-align: right;\n",
              "    }\n",
              "</style>\n",
              "<table border=\"1\" class=\"dataframe\">\n",
              "  <thead>\n",
              "    <tr style=\"text-align: right;\">\n",
              "      <th></th>\n",
              "      <th>id</th>\n",
              "      <th>equipos</th>\n",
              "      <th>bateos</th>\n",
              "      <th>runs</th>\n",
              "    </tr>\n",
              "  </thead>\n",
              "  <tbody>\n",
              "    <tr>\n",
              "      <th>0</th>\n",
              "      <td>0</td>\n",
              "      <td>Texas</td>\n",
              "      <td>5659</td>\n",
              "      <td>855</td>\n",
              "    </tr>\n",
              "    <tr>\n",
              "      <th>1</th>\n",
              "      <td>1</td>\n",
              "      <td>Boston</td>\n",
              "      <td>5710</td>\n",
              "      <td>875</td>\n",
              "    </tr>\n",
              "    <tr>\n",
              "      <th>2</th>\n",
              "      <td>2</td>\n",
              "      <td>Detroit</td>\n",
              "      <td>5563</td>\n",
              "      <td>787</td>\n",
              "    </tr>\n",
              "    <tr>\n",
              "      <th>3</th>\n",
              "      <td>3</td>\n",
              "      <td>Kansas</td>\n",
              "      <td>5672</td>\n",
              "      <td>730</td>\n",
              "    </tr>\n",
              "    <tr>\n",
              "      <th>4</th>\n",
              "      <td>4</td>\n",
              "      <td>St.</td>\n",
              "      <td>5532</td>\n",
              "      <td>762</td>\n",
              "    </tr>\n",
              "    <tr>\n",
              "      <th>5</th>\n",
              "      <td>5</td>\n",
              "      <td>New_S.</td>\n",
              "      <td>5600</td>\n",
              "      <td>718</td>\n",
              "    </tr>\n",
              "    <tr>\n",
              "      <th>6</th>\n",
              "      <td>6</td>\n",
              "      <td>New_Y.</td>\n",
              "      <td>5518</td>\n",
              "      <td>867</td>\n",
              "    </tr>\n",
              "    <tr>\n",
              "      <th>7</th>\n",
              "      <td>7</td>\n",
              "      <td>Milwaukee</td>\n",
              "      <td>5447</td>\n",
              "      <td>721</td>\n",
              "    </tr>\n",
              "    <tr>\n",
              "      <th>8</th>\n",
              "      <td>8</td>\n",
              "      <td>Colorado</td>\n",
              "      <td>5544</td>\n",
              "      <td>735</td>\n",
              "    </tr>\n",
              "    <tr>\n",
              "      <th>9</th>\n",
              "      <td>9</td>\n",
              "      <td>Houston</td>\n",
              "      <td>5598</td>\n",
              "      <td>615</td>\n",
              "    </tr>\n",
              "    <tr>\n",
              "      <th>10</th>\n",
              "      <td>10</td>\n",
              "      <td>Baltimore</td>\n",
              "      <td>5585</td>\n",
              "      <td>708</td>\n",
              "    </tr>\n",
              "    <tr>\n",
              "      <th>11</th>\n",
              "      <td>11</td>\n",
              "      <td>Los_An.</td>\n",
              "      <td>5436</td>\n",
              "      <td>644</td>\n",
              "    </tr>\n",
              "    <tr>\n",
              "      <th>12</th>\n",
              "      <td>12</td>\n",
              "      <td>Chicago</td>\n",
              "      <td>5549</td>\n",
              "      <td>654</td>\n",
              "    </tr>\n",
              "    <tr>\n",
              "      <th>13</th>\n",
              "      <td>13</td>\n",
              "      <td>Cincinnati</td>\n",
              "      <td>5612</td>\n",
              "      <td>735</td>\n",
              "    </tr>\n",
              "    <tr>\n",
              "      <th>14</th>\n",
              "      <td>14</td>\n",
              "      <td>Los_P.</td>\n",
              "      <td>5513</td>\n",
              "      <td>667</td>\n",
              "    </tr>\n",
              "    <tr>\n",
              "      <th>15</th>\n",
              "      <td>15</td>\n",
              "      <td>Philadelphia</td>\n",
              "      <td>5579</td>\n",
              "      <td>713</td>\n",
              "    </tr>\n",
              "    <tr>\n",
              "      <th>16</th>\n",
              "      <td>16</td>\n",
              "      <td>Chicago</td>\n",
              "      <td>5502</td>\n",
              "      <td>654</td>\n",
              "    </tr>\n",
              "    <tr>\n",
              "      <th>17</th>\n",
              "      <td>17</td>\n",
              "      <td>Cleveland</td>\n",
              "      <td>5509</td>\n",
              "      <td>704</td>\n",
              "    </tr>\n",
              "    <tr>\n",
              "      <th>18</th>\n",
              "      <td>18</td>\n",
              "      <td>Arizona</td>\n",
              "      <td>5421</td>\n",
              "      <td>731</td>\n",
              "    </tr>\n",
              "    <tr>\n",
              "      <th>19</th>\n",
              "      <td>19</td>\n",
              "      <td>Toronto</td>\n",
              "      <td>5559</td>\n",
              "      <td>743</td>\n",
              "    </tr>\n",
              "    <tr>\n",
              "      <th>20</th>\n",
              "      <td>20</td>\n",
              "      <td>Minnesota</td>\n",
              "      <td>5487</td>\n",
              "      <td>619</td>\n",
              "    </tr>\n",
              "    <tr>\n",
              "      <th>21</th>\n",
              "      <td>21</td>\n",
              "      <td>Florida</td>\n",
              "      <td>5508</td>\n",
              "      <td>625</td>\n",
              "    </tr>\n",
              "    <tr>\n",
              "      <th>22</th>\n",
              "      <td>22</td>\n",
              "      <td>Pittsburgh</td>\n",
              "      <td>5421</td>\n",
              "      <td>610</td>\n",
              "    </tr>\n",
              "    <tr>\n",
              "      <th>23</th>\n",
              "      <td>23</td>\n",
              "      <td>Oakland</td>\n",
              "      <td>5452</td>\n",
              "      <td>645</td>\n",
              "    </tr>\n",
              "    <tr>\n",
              "      <th>24</th>\n",
              "      <td>24</td>\n",
              "      <td>Tampa</td>\n",
              "      <td>5436</td>\n",
              "      <td>707</td>\n",
              "    </tr>\n",
              "    <tr>\n",
              "      <th>25</th>\n",
              "      <td>25</td>\n",
              "      <td>Atlanta</td>\n",
              "      <td>5528</td>\n",
              "      <td>641</td>\n",
              "    </tr>\n",
              "    <tr>\n",
              "      <th>26</th>\n",
              "      <td>26</td>\n",
              "      <td>Washington</td>\n",
              "      <td>5441</td>\n",
              "      <td>624</td>\n",
              "    </tr>\n",
              "    <tr>\n",
              "      <th>27</th>\n",
              "      <td>27</td>\n",
              "      <td>San.F</td>\n",
              "      <td>5486</td>\n",
              "      <td>570</td>\n",
              "    </tr>\n",
              "    <tr>\n",
              "      <th>28</th>\n",
              "      <td>28</td>\n",
              "      <td>San.I</td>\n",
              "      <td>5417</td>\n",
              "      <td>593</td>\n",
              "    </tr>\n",
              "    <tr>\n",
              "      <th>29</th>\n",
              "      <td>29</td>\n",
              "      <td>Seattle</td>\n",
              "      <td>5421</td>\n",
              "      <td>556</td>\n",
              "    </tr>\n",
              "  </tbody>\n",
              "</table>\n",
              "</div>"
            ],
            "text/plain": [
              "    id       equipos  bateos  runs\n",
              "0    0         Texas    5659   855\n",
              "1    1        Boston    5710   875\n",
              "2    2       Detroit    5563   787\n",
              "3    3        Kansas    5672   730\n",
              "4    4           St.    5532   762\n",
              "5    5        New_S.    5600   718\n",
              "6    6        New_Y.    5518   867\n",
              "7    7     Milwaukee    5447   721\n",
              "8    8      Colorado    5544   735\n",
              "9    9       Houston    5598   615\n",
              "10  10     Baltimore    5585   708\n",
              "11  11       Los_An.    5436   644\n",
              "12  12       Chicago    5549   654\n",
              "13  13    Cincinnati    5612   735\n",
              "14  14        Los_P.    5513   667\n",
              "15  15  Philadelphia    5579   713\n",
              "16  16       Chicago    5502   654\n",
              "17  17     Cleveland    5509   704\n",
              "18  18       Arizona    5421   731\n",
              "19  19       Toronto    5559   743\n",
              "20  20     Minnesota    5487   619\n",
              "21  21       Florida    5508   625\n",
              "22  22    Pittsburgh    5421   610\n",
              "23  23       Oakland    5452   645\n",
              "24  24         Tampa    5436   707\n",
              "25  25       Atlanta    5528   641\n",
              "26  26    Washington    5441   624\n",
              "27  27         San.F    5486   570\n",
              "28  28         San.I    5417   593\n",
              "29  29       Seattle    5421   556"
            ]
          },
          "execution_count": 71,
          "metadata": {},
          "output_type": "execute_result"
        }
      ],
      "source": [
        "df_equipos"
      ]
    },
    {
      "cell_type": "code",
      "execution_count": 72,
      "metadata": {
        "colab": {
          "base_uri": "https://localhost:8080/"
        },
        "id": "1Nfvhbvdw6O8",
        "outputId": "f15d440a-74c5-41b4-959b-66a3a50fa4d2"
      },
      "outputs": [
        {
          "name": "stdout",
          "output_type": "stream",
          "text": [
            "<class 'pandas.core.frame.DataFrame'>\n",
            "RangeIndex: 150 entries, 0 to 149\n",
            "Data columns (total 5 columns):\n",
            " #   Column       Non-Null Count  Dtype  \n",
            "---  ------       --------------  -----  \n",
            " 0   sepalLength  150 non-null    float64\n",
            " 1   sepalWidth   150 non-null    float64\n",
            " 2   petalLength  150 non-null    float64\n",
            " 3   petalWidth   150 non-null    float64\n",
            " 4   species      150 non-null    object \n",
            "dtypes: float64(4), object(1)\n",
            "memory usage: 6.0+ KB\n"
          ]
        }
      ],
      "source": [
        "df_iris = pd.read_json('datos/iris.json')\n",
        "df_iris.info()"
      ]
    },
    {
      "cell_type": "code",
      "execution_count": 73,
      "metadata": {
        "colab": {
          "base_uri": "https://localhost:8080/",
          "height": 424
        },
        "id": "NzqhGvlzxUcw",
        "outputId": "73436632-7b31-42ce-f02c-36d463921817"
      },
      "outputs": [
        {
          "data": {
            "text/html": [
              "<div>\n",
              "<style scoped>\n",
              "    .dataframe tbody tr th:only-of-type {\n",
              "        vertical-align: middle;\n",
              "    }\n",
              "\n",
              "    .dataframe tbody tr th {\n",
              "        vertical-align: top;\n",
              "    }\n",
              "\n",
              "    .dataframe thead th {\n",
              "        text-align: right;\n",
              "    }\n",
              "</style>\n",
              "<table border=\"1\" class=\"dataframe\">\n",
              "  <thead>\n",
              "    <tr style=\"text-align: right;\">\n",
              "      <th></th>\n",
              "      <th>sepalLength</th>\n",
              "      <th>sepalWidth</th>\n",
              "      <th>petalLength</th>\n",
              "      <th>petalWidth</th>\n",
              "      <th>species</th>\n",
              "    </tr>\n",
              "  </thead>\n",
              "  <tbody>\n",
              "    <tr>\n",
              "      <th>0</th>\n",
              "      <td>5.1</td>\n",
              "      <td>3.5</td>\n",
              "      <td>1.4</td>\n",
              "      <td>0.2</td>\n",
              "      <td>setosa</td>\n",
              "    </tr>\n",
              "    <tr>\n",
              "      <th>1</th>\n",
              "      <td>4.9</td>\n",
              "      <td>3.0</td>\n",
              "      <td>1.4</td>\n",
              "      <td>0.2</td>\n",
              "      <td>setosa</td>\n",
              "    </tr>\n",
              "    <tr>\n",
              "      <th>2</th>\n",
              "      <td>4.7</td>\n",
              "      <td>3.2</td>\n",
              "      <td>1.3</td>\n",
              "      <td>0.2</td>\n",
              "      <td>setosa</td>\n",
              "    </tr>\n",
              "    <tr>\n",
              "      <th>3</th>\n",
              "      <td>4.6</td>\n",
              "      <td>3.1</td>\n",
              "      <td>1.5</td>\n",
              "      <td>0.2</td>\n",
              "      <td>setosa</td>\n",
              "    </tr>\n",
              "    <tr>\n",
              "      <th>4</th>\n",
              "      <td>5.0</td>\n",
              "      <td>3.6</td>\n",
              "      <td>1.4</td>\n",
              "      <td>0.2</td>\n",
              "      <td>setosa</td>\n",
              "    </tr>\n",
              "    <tr>\n",
              "      <th>...</th>\n",
              "      <td>...</td>\n",
              "      <td>...</td>\n",
              "      <td>...</td>\n",
              "      <td>...</td>\n",
              "      <td>...</td>\n",
              "    </tr>\n",
              "    <tr>\n",
              "      <th>145</th>\n",
              "      <td>6.7</td>\n",
              "      <td>3.0</td>\n",
              "      <td>5.2</td>\n",
              "      <td>2.3</td>\n",
              "      <td>virginica</td>\n",
              "    </tr>\n",
              "    <tr>\n",
              "      <th>146</th>\n",
              "      <td>6.3</td>\n",
              "      <td>2.5</td>\n",
              "      <td>5.0</td>\n",
              "      <td>1.9</td>\n",
              "      <td>virginica</td>\n",
              "    </tr>\n",
              "    <tr>\n",
              "      <th>147</th>\n",
              "      <td>6.5</td>\n",
              "      <td>3.0</td>\n",
              "      <td>5.2</td>\n",
              "      <td>2.0</td>\n",
              "      <td>virginica</td>\n",
              "    </tr>\n",
              "    <tr>\n",
              "      <th>148</th>\n",
              "      <td>6.2</td>\n",
              "      <td>3.4</td>\n",
              "      <td>5.4</td>\n",
              "      <td>2.3</td>\n",
              "      <td>virginica</td>\n",
              "    </tr>\n",
              "    <tr>\n",
              "      <th>149</th>\n",
              "      <td>5.9</td>\n",
              "      <td>3.0</td>\n",
              "      <td>5.1</td>\n",
              "      <td>1.8</td>\n",
              "      <td>virginica</td>\n",
              "    </tr>\n",
              "  </tbody>\n",
              "</table>\n",
              "<p>150 rows × 5 columns</p>\n",
              "</div>"
            ],
            "text/plain": [
              "     sepalLength  sepalWidth  petalLength  petalWidth    species\n",
              "0            5.1         3.5          1.4         0.2     setosa\n",
              "1            4.9         3.0          1.4         0.2     setosa\n",
              "2            4.7         3.2          1.3         0.2     setosa\n",
              "3            4.6         3.1          1.5         0.2     setosa\n",
              "4            5.0         3.6          1.4         0.2     setosa\n",
              "..           ...         ...          ...         ...        ...\n",
              "145          6.7         3.0          5.2         2.3  virginica\n",
              "146          6.3         2.5          5.0         1.9  virginica\n",
              "147          6.5         3.0          5.2         2.0  virginica\n",
              "148          6.2         3.4          5.4         2.3  virginica\n",
              "149          5.9         3.0          5.1         1.8  virginica\n",
              "\n",
              "[150 rows x 5 columns]"
            ]
          },
          "execution_count": 73,
          "metadata": {},
          "output_type": "execute_result"
        }
      ],
      "source": [
        "df_iris"
      ]
    }
  ],
  "metadata": {
    "colab": {
      "collapsed_sections": [],
      "provenance": []
    },
    "kernelspec": {
      "display_name": "Python 3",
      "name": "python3"
    },
    "language_info": {
      "name": "python"
    }
  },
  "nbformat": 4,
  "nbformat_minor": 0
}
